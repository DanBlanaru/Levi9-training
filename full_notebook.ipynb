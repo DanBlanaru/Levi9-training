{
 "cells": [
  {
   "cell_type": "code",
   "execution_count": 1,
   "metadata": {},
   "outputs": [],
   "source": [
    "from sklearn.neighbors import KNeighborsClassifier\n",
    "from sklearn.svm import SVC\n",
    "from sklearn.ensemble import AdaBoostClassifier, RandomForestClassifier\n",
    "from sklearn.tree import DecisionTreeClassifier\n",
    "from sklearn.gaussian_process import GaussianProcessClassifier\n",
    "from sklearn.gaussian_process.kernels import RBF\n",
    "\n",
    "from sklearn.model_selection import cross_val_score, RandomizedSearchCV, GridSearchCV\n",
    "from sklearn.metrics import accuracy_score,precision_score,recall_score,f1_score,confusion_matrix,classification_report, roc_curve\n",
    "\n",
    "from xgboost import XGBClassifier\n",
    "from xgboost import DMatrix, cv\n",
    "from sklearn.preprocessing import OneHotEncoder, OrdinalEncoder\n",
    "from sklearn.decomposition import PCA\n",
    "\n",
    "from sklearn import feature_selection\n",
    "from sklearn import model_selection\n",
    "from sklearn import metrics\n",
    "\n",
    "import seaborn as sns\n",
    "import numpy\n",
    "import matplotlib.pyplot as plt\n",
    "from mpl_toolkits.mplot3d import Axes3D\n",
    "import matplotlib\n",
    "import pandas as pd\n",
    "import pickle\n",
    "import joblib\n",
    "%matplotlib inline\n",
    "# import"
   ]
  },
  {
   "cell_type": "code",
   "execution_count": 2,
   "metadata": {},
   "outputs": [],
   "source": [
    "raw_data_folder = \"raw_data//\"\n",
    "processed_data_folder = \"processed_data//\"\n",
    "models_folder = \"models//\""
   ]
  },
  {
   "cell_type": "markdown",
   "metadata": {},
   "source": [
    "# 1.Preprocessing Data"
   ]
  },
  {
   "cell_type": "code",
   "execution_count": 3,
   "metadata": {},
   "outputs": [
    {
     "data": {
      "text/html": [
       "<div>\n",
       "<style scoped>\n",
       "    .dataframe tbody tr th:only-of-type {\n",
       "        vertical-align: middle;\n",
       "    }\n",
       "\n",
       "    .dataframe tbody tr th {\n",
       "        vertical-align: top;\n",
       "    }\n",
       "\n",
       "    .dataframe thead th {\n",
       "        text-align: right;\n",
       "    }\n",
       "</style>\n",
       "<table border=\"1\" class=\"dataframe\">\n",
       "  <thead>\n",
       "    <tr style=\"text-align: right;\">\n",
       "      <th></th>\n",
       "      <th>PassengerId</th>\n",
       "      <th>Survived</th>\n",
       "      <th>Pclass</th>\n",
       "      <th>Name</th>\n",
       "      <th>Sex</th>\n",
       "      <th>Age</th>\n",
       "      <th>SibSp</th>\n",
       "      <th>Parch</th>\n",
       "      <th>Ticket</th>\n",
       "      <th>Fare</th>\n",
       "      <th>Cabin</th>\n",
       "      <th>Embarked</th>\n",
       "    </tr>\n",
       "  </thead>\n",
       "  <tbody>\n",
       "    <tr>\n",
       "      <th>0</th>\n",
       "      <td>1</td>\n",
       "      <td>0</td>\n",
       "      <td>3</td>\n",
       "      <td>Braund, Mr. Owen Harris</td>\n",
       "      <td>male</td>\n",
       "      <td>22.0</td>\n",
       "      <td>1</td>\n",
       "      <td>0</td>\n",
       "      <td>A/5 21171</td>\n",
       "      <td>7.2500</td>\n",
       "      <td>NaN</td>\n",
       "      <td>S</td>\n",
       "    </tr>\n",
       "    <tr>\n",
       "      <th>1</th>\n",
       "      <td>2</td>\n",
       "      <td>1</td>\n",
       "      <td>1</td>\n",
       "      <td>Cumings, Mrs. John Bradley (Florence Briggs Th...</td>\n",
       "      <td>female</td>\n",
       "      <td>38.0</td>\n",
       "      <td>1</td>\n",
       "      <td>0</td>\n",
       "      <td>PC 17599</td>\n",
       "      <td>71.2833</td>\n",
       "      <td>C85</td>\n",
       "      <td>C</td>\n",
       "    </tr>\n",
       "    <tr>\n",
       "      <th>2</th>\n",
       "      <td>3</td>\n",
       "      <td>1</td>\n",
       "      <td>3</td>\n",
       "      <td>Heikkinen, Miss. Laina</td>\n",
       "      <td>female</td>\n",
       "      <td>26.0</td>\n",
       "      <td>0</td>\n",
       "      <td>0</td>\n",
       "      <td>STON/O2. 3101282</td>\n",
       "      <td>7.9250</td>\n",
       "      <td>NaN</td>\n",
       "      <td>S</td>\n",
       "    </tr>\n",
       "    <tr>\n",
       "      <th>3</th>\n",
       "      <td>4</td>\n",
       "      <td>1</td>\n",
       "      <td>1</td>\n",
       "      <td>Futrelle, Mrs. Jacques Heath (Lily May Peel)</td>\n",
       "      <td>female</td>\n",
       "      <td>35.0</td>\n",
       "      <td>1</td>\n",
       "      <td>0</td>\n",
       "      <td>113803</td>\n",
       "      <td>53.1000</td>\n",
       "      <td>C123</td>\n",
       "      <td>S</td>\n",
       "    </tr>\n",
       "    <tr>\n",
       "      <th>4</th>\n",
       "      <td>5</td>\n",
       "      <td>0</td>\n",
       "      <td>3</td>\n",
       "      <td>Allen, Mr. William Henry</td>\n",
       "      <td>male</td>\n",
       "      <td>35.0</td>\n",
       "      <td>0</td>\n",
       "      <td>0</td>\n",
       "      <td>373450</td>\n",
       "      <td>8.0500</td>\n",
       "      <td>NaN</td>\n",
       "      <td>S</td>\n",
       "    </tr>\n",
       "  </tbody>\n",
       "</table>\n",
       "</div>"
      ],
      "text/plain": [
       "   PassengerId  Survived  Pclass  \\\n",
       "0            1         0       3   \n",
       "1            2         1       1   \n",
       "2            3         1       3   \n",
       "3            4         1       1   \n",
       "4            5         0       3   \n",
       "\n",
       "                                                Name     Sex   Age  SibSp  \\\n",
       "0                            Braund, Mr. Owen Harris    male  22.0      1   \n",
       "1  Cumings, Mrs. John Bradley (Florence Briggs Th...  female  38.0      1   \n",
       "2                             Heikkinen, Miss. Laina  female  26.0      0   \n",
       "3       Futrelle, Mrs. Jacques Heath (Lily May Peel)  female  35.0      1   \n",
       "4                           Allen, Mr. William Henry    male  35.0      0   \n",
       "\n",
       "   Parch            Ticket     Fare Cabin Embarked  \n",
       "0      0         A/5 21171   7.2500   NaN        S  \n",
       "1      0          PC 17599  71.2833   C85        C  \n",
       "2      0  STON/O2. 3101282   7.9250   NaN        S  \n",
       "3      0            113803  53.1000  C123        S  \n",
       "4      0            373450   8.0500   NaN        S  "
      ]
     },
     "execution_count": 3,
     "metadata": {},
     "output_type": "execute_result"
    }
   ],
   "source": [
    "raw_train = pd.read_csv(raw_data_folder +'train.csv')\n",
    "raw_test = pd.read_csv(raw_data_folder + 'test.csv')\n",
    "raw_train.head()"
   ]
  },
  {
   "cell_type": "code",
   "execution_count": 4,
   "metadata": {
    "scrolled": true
   },
   "outputs": [
    {
     "name": "stdout",
     "output_type": "stream",
     "text": [
      "<class 'pandas.core.frame.DataFrame'>\n",
      "RangeIndex: 891 entries, 0 to 890\n",
      "Data columns (total 12 columns):\n",
      " #   Column       Non-Null Count  Dtype  \n",
      "---  ------       --------------  -----  \n",
      " 0   PassengerId  891 non-null    int64  \n",
      " 1   Survived     891 non-null    int64  \n",
      " 2   Pclass       891 non-null    int64  \n",
      " 3   Name         891 non-null    object \n",
      " 4   Sex          891 non-null    object \n",
      " 5   Age          714 non-null    float64\n",
      " 6   SibSp        891 non-null    int64  \n",
      " 7   Parch        891 non-null    int64  \n",
      " 8   Ticket       891 non-null    object \n",
      " 9   Fare         891 non-null    float64\n",
      " 10  Cabin        204 non-null    object \n",
      " 11  Embarked     889 non-null    object \n",
      "dtypes: float64(2), int64(5), object(5)\n",
      "memory usage: 83.7+ KB\n",
      "<class 'pandas.core.frame.DataFrame'>\n",
      "RangeIndex: 418 entries, 0 to 417\n",
      "Data columns (total 11 columns):\n",
      " #   Column       Non-Null Count  Dtype  \n",
      "---  ------       --------------  -----  \n",
      " 0   PassengerId  418 non-null    int64  \n",
      " 1   Pclass       418 non-null    int64  \n",
      " 2   Name         418 non-null    object \n",
      " 3   Sex          418 non-null    object \n",
      " 4   Age          332 non-null    float64\n",
      " 5   SibSp        418 non-null    int64  \n",
      " 6   Parch        418 non-null    int64  \n",
      " 7   Ticket       418 non-null    object \n",
      " 8   Fare         417 non-null    float64\n",
      " 9   Cabin        91 non-null     object \n",
      " 10  Embarked     418 non-null    object \n",
      "dtypes: float64(2), int64(4), object(5)\n",
      "memory usage: 36.0+ KB\n"
     ]
    }
   ],
   "source": [
    "raw_train.info()\n",
    "raw_test.info()"
   ]
  },
  {
   "cell_type": "markdown",
   "metadata": {},
   "source": [
    "## 1.1 Imputing\n",
    "&ensp; Fortunately, we have only 2 columns that have missing values with significant frequency, those being Cabin(cabin number)  and Age.\n",
    "Fare and Embarked also have missing values but they are few, the train set only missing 2 Embarked values and full Fare information, and the test set missing only 1 Fare value.\n",
    "With Embarked, the situation is simple because the main majority of people that got on, did so at Southampton and there are only 2 missing values, so just attributing \"S\" to them should be sufficient.\n",
    "\n",
    "The problem is that \"Cabin\" has only around 1/4 of the values not missing, even though it could have been an useful piece of information. It would be better to just drop it because the number of values we actually have is very small.\n",
    "\n",
    "For Age, since it is a numerical column, numerous approaches may be adopted and each may have its advantages(median, mean or inferring it from other columns). Because mean fits quite nicely with the age distribution (as we see below, the red line being the mean), we will use it."
   ]
  },
  {
   "cell_type": "code",
   "execution_count": 5,
   "metadata": {},
   "outputs": [
    {
     "data": {
      "text/plain": [
       "<matplotlib.lines.Line2D at 0x21a544c6508>"
      ]
     },
     "execution_count": 5,
     "metadata": {},
     "output_type": "execute_result"
    },
    {
     "data": {
      "image/png": "[encoded data removed]",
      "text/plain": [
       "<Figure size 720x360 with 1 Axes>"
      ]
     },
     "metadata": {
      "needs_background": "light"
     },
     "output_type": "display_data"
    }
   ],
   "source": [
    "fig, ax = plt.subplots(figsize = (10,5))\n",
    "raw_train.Age.hist(ax =ax , label = \"train\")\n",
    "ax.axvline(x=raw_train.Age.mean(),ymin= 0, ymax = 180, color='r', linestyle='dashed', linewidth=1)"
   ]
  },
  {
   "cell_type": "code",
   "execution_count": 6,
   "metadata": {},
   "outputs": [
    {
     "name": "stdout",
     "output_type": "stream",
     "text": [
      "Train:  687 missing out of  891 (77.104377)percent\n",
      "Test:  327 missing out of  418 (78.229665)percent\n"
     ]
    }
   ],
   "source": [
    "print(\"Train: \",raw_train.Cabin.isna().sum(), \"missing out of \", len(raw_train), \"(%f)percent\"%(raw_train.Cabin.isna().sum() / len(raw_train) * 100)) \n",
    "print(\"Test: \",raw_test.Cabin.isna().sum(), \"missing out of \", len(raw_test), \"(%f)percent\"%(raw_test.Cabin.isna().sum() / len(raw_test) * 100))\n"
   ]
  },
  {
   "cell_type": "code",
   "execution_count": 7,
   "metadata": {},
   "outputs": [
    {
     "name": "stdout",
     "output_type": "stream",
     "text": [
      "2\n"
     ]
    },
    {
     "data": {
      "text/html": [
       "<div>\n",
       "<style scoped>\n",
       "    .dataframe tbody tr th:only-of-type {\n",
       "        vertical-align: middle;\n",
       "    }\n",
       "\n",
       "    .dataframe tbody tr th {\n",
       "        vertical-align: top;\n",
       "    }\n",
       "\n",
       "    .dataframe thead th {\n",
       "        text-align: right;\n",
       "    }\n",
       "</style>\n",
       "<table border=\"1\" class=\"dataframe\">\n",
       "  <thead>\n",
       "    <tr style=\"text-align: right;\">\n",
       "      <th></th>\n",
       "      <th>PassengerId</th>\n",
       "      <th>Survived</th>\n",
       "      <th>Pclass</th>\n",
       "      <th>Name</th>\n",
       "      <th>Sex</th>\n",
       "      <th>Age</th>\n",
       "      <th>SibSp</th>\n",
       "      <th>Parch</th>\n",
       "      <th>Ticket</th>\n",
       "      <th>Fare</th>\n",
       "      <th>Cabin</th>\n",
       "    </tr>\n",
       "    <tr>\n",
       "      <th>Embarked</th>\n",
       "      <th></th>\n",
       "      <th></th>\n",
       "      <th></th>\n",
       "      <th></th>\n",
       "      <th></th>\n",
       "      <th></th>\n",
       "      <th></th>\n",
       "      <th></th>\n",
       "      <th></th>\n",
       "      <th></th>\n",
       "      <th></th>\n",
       "    </tr>\n",
       "  </thead>\n",
       "  <tbody>\n",
       "    <tr>\n",
       "      <th>C</th>\n",
       "      <td>168</td>\n",
       "      <td>168</td>\n",
       "      <td>168</td>\n",
       "      <td>168</td>\n",
       "      <td>168</td>\n",
       "      <td>130</td>\n",
       "      <td>168</td>\n",
       "      <td>168</td>\n",
       "      <td>168</td>\n",
       "      <td>168</td>\n",
       "      <td>69</td>\n",
       "    </tr>\n",
       "    <tr>\n",
       "      <th>Q</th>\n",
       "      <td>77</td>\n",
       "      <td>77</td>\n",
       "      <td>77</td>\n",
       "      <td>77</td>\n",
       "      <td>77</td>\n",
       "      <td>28</td>\n",
       "      <td>77</td>\n",
       "      <td>77</td>\n",
       "      <td>77</td>\n",
       "      <td>77</td>\n",
       "      <td>4</td>\n",
       "    </tr>\n",
       "    <tr>\n",
       "      <th>S</th>\n",
       "      <td>644</td>\n",
       "      <td>644</td>\n",
       "      <td>644</td>\n",
       "      <td>644</td>\n",
       "      <td>644</td>\n",
       "      <td>554</td>\n",
       "      <td>644</td>\n",
       "      <td>644</td>\n",
       "      <td>644</td>\n",
       "      <td>644</td>\n",
       "      <td>129</td>\n",
       "    </tr>\n",
       "  </tbody>\n",
       "</table>\n",
       "</div>"
      ],
      "text/plain": [
       "          PassengerId  Survived  Pclass  Name  Sex  Age  SibSp  Parch  Ticket  \\\n",
       "Embarked                                                                        \n",
       "C                 168       168     168   168  168  130    168    168     168   \n",
       "Q                  77        77      77    77   77   28     77     77      77   \n",
       "S                 644       644     644   644  644  554    644    644     644   \n",
       "\n",
       "          Fare  Cabin  \n",
       "Embarked               \n",
       "C          168     69  \n",
       "Q           77      4  \n",
       "S          644    129  "
      ]
     },
     "execution_count": 7,
     "metadata": {},
     "output_type": "execute_result"
    }
   ],
   "source": [
    "print(raw_train.Embarked.isna().sum())\n",
    "raw_train.groupby(\"Embarked\").count()"
   ]
  },
  {
   "cell_type": "code",
   "execution_count": 8,
   "metadata": {},
   "outputs": [],
   "source": [
    "def imputing(raw_train, method='mean', age_value = None):\n",
    "    train = raw_train.copy()\n",
    "    train.Embarked.fillna(\"S\",inplace = True)\n",
    "    train.Fare.fillna(train.Fare.mean(),inplace = True)\n",
    "    \n",
    "    train.drop(\"Cabin\", axis = 1, inplace = True)\n",
    "    \n",
    "    if method == 'mean':\n",
    "        train.Age.fillna(train.Age.mean(), inplace = True)\n",
    "    if method == 'median':\n",
    "        train.Age.fillna(train.Age.median(), inplace = True)\n",
    "    if age_value is not None:\n",
    "        train.Age.fillna(age_value, inplace = True)\n",
    "    \n",
    "    train['Alone'] = 0 + (train.SibSp + train.Parch > 0)\n",
    "    return train"
   ]
  },
  {
   "cell_type": "code",
   "execution_count": 9,
   "metadata": {},
   "outputs": [],
   "source": [
    "imputed_train = imputing(raw_train)\n",
    "imputed_test = imputing(raw_test, age_value = raw_train.Age.mean())"
   ]
  },
  {
   "cell_type": "markdown",
   "metadata": {},
   "source": [
    "Check the inputing was done correctly"
   ]
  },
  {
   "cell_type": "code",
   "execution_count": 10,
   "metadata": {},
   "outputs": [
    {
     "name": "stdout",
     "output_type": "stream",
     "text": [
      "<class 'pandas.core.frame.DataFrame'>\n",
      "RangeIndex: 891 entries, 0 to 890\n",
      "Data columns (total 12 columns):\n",
      " #   Column       Non-Null Count  Dtype  \n",
      "---  ------       --------------  -----  \n",
      " 0   PassengerId  891 non-null    int64  \n",
      " 1   Survived     891 non-null    int64  \n",
      " 2   Pclass       891 non-null    int64  \n",
      " 3   Name         891 non-null    object \n",
      " 4   Sex          891 non-null    object \n",
      " 5   Age          891 non-null    float64\n",
      " 6   SibSp        891 non-null    int64  \n",
      " 7   Parch        891 non-null    int64  \n",
      " 8   Ticket       891 non-null    object \n",
      " 9   Fare         891 non-null    float64\n",
      " 10  Embarked     891 non-null    object \n",
      " 11  Alone        891 non-null    int32  \n",
      "dtypes: float64(2), int32(1), int64(5), object(4)\n",
      "memory usage: 80.2+ KB\n",
      "<class 'pandas.core.frame.DataFrame'>\n",
      "RangeIndex: 418 entries, 0 to 417\n",
      "Data columns (total 11 columns):\n",
      " #   Column       Non-Null Count  Dtype  \n",
      "---  ------       --------------  -----  \n",
      " 0   PassengerId  418 non-null    int64  \n",
      " 1   Pclass       418 non-null    int64  \n",
      " 2   Name         418 non-null    object \n",
      " 3   Sex          418 non-null    object \n",
      " 4   Age          418 non-null    float64\n",
      " 5   SibSp        418 non-null    int64  \n",
      " 6   Parch        418 non-null    int64  \n",
      " 7   Ticket       418 non-null    object \n",
      " 8   Fare         418 non-null    float64\n",
      " 9   Embarked     418 non-null    object \n",
      " 10  Alone        418 non-null    int32  \n",
      "dtypes: float64(2), int32(1), int64(4), object(4)\n",
      "memory usage: 34.4+ KB\n"
     ]
    }
   ],
   "source": [
    "imputed_train.info()\n",
    "imputed_test.info()"
   ]
  },
  {
   "cell_type": "code",
   "execution_count": 11,
   "metadata": {},
   "outputs": [],
   "source": [
    "def split_train(dataset,ratio = 0.2):\n",
    "    train_data = dataset.copy()\n",
    "    train_y = train_data.Survived\n",
    "    train_data.drop(\"Survived\",axis = 1,inplace = True)\n",
    "    if ratio != 0:\n",
    "        return model_selection.train_test_split(train_data,train_y,test_size=ratio)\n",
    "    else:\n",
    "        return train_data,[],train_y,[]"
   ]
  },
  {
   "cell_type": "code",
   "execution_count": 12,
   "metadata": {},
   "outputs": [],
   "source": [
    "X_train, X_test, y_train, y_test = split_train(imputed_train) # example of use"
   ]
  },
  {
   "cell_type": "code",
   "execution_count": 13,
   "metadata": {},
   "outputs": [],
   "source": [
    "ordinal = OrdinalEncoder()\n",
    "onehot = OneHotEncoder()"
   ]
  },
  {
   "cell_type": "markdown",
   "metadata": {},
   "source": [
    "## 1.2 Transforming:\n",
    "\n",
    "#### Important note:\n",
    "    While i tried using the Transformers provided in sklearn, they reordered the columns in a way that made the dataset unmanageable afterwards, and some later visualisations and deductions rely on the fact that we know which are the columns. \n",
    "    This is by far the biggest inconvenience until now, but the amount of work needed to work around it is far greater than the work needed to develop a solution in pandas for both encodings used. \n",
    "<br>\n",
    "Here we drop the columns which are not useful in making predictions as they offer no real information(Ticked ID and Passenger ID) as to they may provide the boosted trees an opportunity to overfit and transform the categorical ones (Sex and Embarked) into their encodings. Also, we exctract knowledge from the Name column in the form of Title, which may provide additional infomation in regard to the social status of the person."
   ]
  },
  {
   "cell_type": "code",
   "execution_count": 14,
   "metadata": {},
   "outputs": [
    {
     "data": {
      "text/plain": [
       "{'Capt',\n",
       " 'Col',\n",
       " 'Don',\n",
       " 'Dona',\n",
       " 'Dr',\n",
       " 'Jonkheer',\n",
       " 'Lady',\n",
       " 'Major',\n",
       " 'Master',\n",
       " 'Miss',\n",
       " 'Mlle',\n",
       " 'Mme',\n",
       " 'Mr',\n",
       " 'Mrs',\n",
       " 'Ms',\n",
       " 'Rev',\n",
       " 'Sir',\n",
       " 'the Countess'}"
      ]
     },
     "execution_count": 14,
     "metadata": {},
     "output_type": "execute_result"
    }
   ],
   "source": [
    "def name_to_title(name):\n",
    "    return name.split(',')[1].split('.')[0].strip()\n",
    "titles_train = set([name_to_title(name) for name in raw_train['Name']])\n",
    "titles_test = set([name_to_title(name) for name in raw_test['Name']])\n",
    "titles = titles_train | titles_test # set union\n",
    "titles"
   ]
  },
  {
   "cell_type": "markdown",
   "metadata": {},
   "source": [
    "We create a dictionary for standardinze different terms to a common meaning (eg. Captain and Colonel to Officer)"
   ]
  },
  {
   "cell_type": "code",
   "execution_count": 15,
   "metadata": {},
   "outputs": [
    {
     "data": {
      "text/html": [
       "<div>\n",
       "<style scoped>\n",
       "    .dataframe tbody tr th:only-of-type {\n",
       "        vertical-align: middle;\n",
       "    }\n",
       "\n",
       "    .dataframe tbody tr th {\n",
       "        vertical-align: top;\n",
       "    }\n",
       "\n",
       "    .dataframe thead th {\n",
       "        text-align: right;\n",
       "    }\n",
       "</style>\n",
       "<table border=\"1\" class=\"dataframe\">\n",
       "  <thead>\n",
       "    <tr style=\"text-align: right;\">\n",
       "      <th></th>\n",
       "      <th>PassengerId</th>\n",
       "      <th>Pclass</th>\n",
       "      <th>Name</th>\n",
       "      <th>Sex</th>\n",
       "      <th>Age</th>\n",
       "      <th>SibSp</th>\n",
       "      <th>Parch</th>\n",
       "      <th>Ticket</th>\n",
       "      <th>Fare</th>\n",
       "      <th>Embarked</th>\n",
       "      <th>Alone</th>\n",
       "      <th>Title</th>\n",
       "    </tr>\n",
       "  </thead>\n",
       "  <tbody>\n",
       "    <tr>\n",
       "      <th>0</th>\n",
       "      <td>892</td>\n",
       "      <td>3</td>\n",
       "      <td>Kelly, Mr. James</td>\n",
       "      <td>male</td>\n",
       "      <td>34.5</td>\n",
       "      <td>0</td>\n",
       "      <td>0</td>\n",
       "      <td>330911</td>\n",
       "      <td>7.8292</td>\n",
       "      <td>Q</td>\n",
       "      <td>0</td>\n",
       "      <td>Mr</td>\n",
       "    </tr>\n",
       "    <tr>\n",
       "      <th>1</th>\n",
       "      <td>893</td>\n",
       "      <td>3</td>\n",
       "      <td>Wilkes, Mrs. James (Ellen Needs)</td>\n",
       "      <td>female</td>\n",
       "      <td>47.0</td>\n",
       "      <td>1</td>\n",
       "      <td>0</td>\n",
       "      <td>363272</td>\n",
       "      <td>7.0000</td>\n",
       "      <td>S</td>\n",
       "      <td>1</td>\n",
       "      <td>Mrs</td>\n",
       "    </tr>\n",
       "    <tr>\n",
       "      <th>2</th>\n",
       "      <td>894</td>\n",
       "      <td>2</td>\n",
       "      <td>Myles, Mr. Thomas Francis</td>\n",
       "      <td>male</td>\n",
       "      <td>62.0</td>\n",
       "      <td>0</td>\n",
       "      <td>0</td>\n",
       "      <td>240276</td>\n",
       "      <td>9.6875</td>\n",
       "      <td>Q</td>\n",
       "      <td>0</td>\n",
       "      <td>Mr</td>\n",
       "    </tr>\n",
       "    <tr>\n",
       "      <th>3</th>\n",
       "      <td>895</td>\n",
       "      <td>3</td>\n",
       "      <td>Wirz, Mr. Albert</td>\n",
       "      <td>male</td>\n",
       "      <td>27.0</td>\n",
       "      <td>0</td>\n",
       "      <td>0</td>\n",
       "      <td>315154</td>\n",
       "      <td>8.6625</td>\n",
       "      <td>S</td>\n",
       "      <td>0</td>\n",
       "      <td>Mr</td>\n",
       "    </tr>\n",
       "    <tr>\n",
       "      <th>4</th>\n",
       "      <td>896</td>\n",
       "      <td>3</td>\n",
       "      <td>Hirvonen, Mrs. Alexander (Helga E Lindqvist)</td>\n",
       "      <td>female</td>\n",
       "      <td>22.0</td>\n",
       "      <td>1</td>\n",
       "      <td>1</td>\n",
       "      <td>3101298</td>\n",
       "      <td>12.2875</td>\n",
       "      <td>S</td>\n",
       "      <td>1</td>\n",
       "      <td>Mrs</td>\n",
       "    </tr>\n",
       "  </tbody>\n",
       "</table>\n",
       "</div>"
      ],
      "text/plain": [
       "   PassengerId  Pclass                                          Name     Sex  \\\n",
       "0          892       3                              Kelly, Mr. James    male   \n",
       "1          893       3              Wilkes, Mrs. James (Ellen Needs)  female   \n",
       "2          894       2                     Myles, Mr. Thomas Francis    male   \n",
       "3          895       3                              Wirz, Mr. Albert    male   \n",
       "4          896       3  Hirvonen, Mrs. Alexander (Helga E Lindqvist)  female   \n",
       "\n",
       "    Age  SibSp  Parch   Ticket     Fare Embarked  Alone Title  \n",
       "0  34.5      0      0   330911   7.8292        Q      0    Mr  \n",
       "1  47.0      1      0   363272   7.0000        S      1   Mrs  \n",
       "2  62.0      0      0   240276   9.6875        Q      0    Mr  \n",
       "3  27.0      0      0   315154   8.6625        S      0    Mr  \n",
       "4  22.0      1      1  3101298  12.2875        S      1   Mrs  "
      ]
     },
     "execution_count": 15,
     "metadata": {},
     "output_type": "execute_result"
    }
   ],
   "source": [
    "title_dict = {\n",
    "    \"Capt\": \"Officer\",\n",
    "    \"Col\": \"Officer\",\n",
    "    \"Major\": \"Officer\",\n",
    "    \"Jonkheer\": \"Royalty\",\n",
    "    \"Don\": \"Royalty\",\n",
    "    \"Dona\":\"Royalty\",\n",
    "    \"Sir\" : \"Royalty\",\n",
    "    \"Dr\": \"Officer\",\n",
    "    \"Rev\": \"Officer\",\n",
    "    \"the Countess\":\"Royalty\",\n",
    "    \"Mme\": \"Mrs\",\n",
    "    \"Mlle\": \"Miss\",\n",
    "    \"Ms\": \"Mrs\",\n",
    "    \"Mr\" : \"Mr\",\n",
    "    \"Mrs\" : \"Mrs\",\n",
    "    \"Miss\" : \"Miss\",\n",
    "    \"Master\" : \"Master\",\n",
    "    \"Lady\" : \"Royalty\"\n",
    "}\n",
    "def transform_titles(dataset):\n",
    "    dataset['Title'] = dataset['Name'].map(lambda name:name_to_title(name))\n",
    "    dataset['Title'] = dataset['Title'].map(lambda title:title_dict[title])\n",
    "transform_titles(imputed_test)\n",
    "imputed_test.head()"
   ]
  },
  {
   "cell_type": "code",
   "execution_count": 16,
   "metadata": {},
   "outputs": [],
   "source": [
    "def transform(dataset, encoder):\n",
    "    transformed_dataset = dataset.copy()\n",
    "    transformed_dataset['Title'] = transformed_dataset['Name'].map(lambda name:name_to_title(name))\n",
    "    transformed_dataset['Title'] = transformed_dataset['Title'].map(lambda title:title_dict[title])\n",
    "    transformed_dataset.drop(\"Name\",axis =1, inplace = True)\n",
    "    transformed_dataset.drop(\"PassengerId\", axis =1, inplace = True)\n",
    "    transformed_dataset.drop(\"Ticket\",axis =1, inplace = True)\n",
    "    if type(encoder) is OrdinalEncoder:\n",
    "        transformed_dataset.Sex = encoder.fit_transform(transformed_dataset.Sex.values.reshape(-1,1))\n",
    "        transformed_dataset.Embarked = encoder.fit_transform(transformed_dataset.Embarked.values.reshape(-1,1))\n",
    "        transformed_dataset.Title = encoder.fit_transform(transformed_dataset.Title.values.reshape(-1,1))\n",
    "    if type(encoder) is OneHotEncoder:\n",
    "        sex_dummies = pd.get_dummies(transformed_dataset['Sex'], prefix = 'Sex')\n",
    "        embarked_dummies = pd.get_dummies(transformed_dataset['Embarked'], prefix = 'Embarked')\n",
    "        title_dummies = pd.get_dummies(transformed_dataset['Title'], prefix = 'Title')\n",
    "        transformed_dataset = pd.concat([transformed_dataset,embarked_dummies,sex_dummies,title_dummies], axis = 1)\n",
    "        transformed_dataset.drop(\"Sex\",axis = 1, inplace = True)\n",
    "        transformed_dataset.drop(\"Embarked\", axis = 1, inplace =  True)\n",
    "        transformed_dataset.drop(\"Title\",axis =1, inplace = True)\n",
    "    return transformed_dataset"
   ]
  },
  {
   "cell_type": "code",
   "execution_count": 17,
   "metadata": {},
   "outputs": [],
   "source": [
    "transformed_train_onehot = transform(X_train,onehot)\n",
    "transformed_test_onehot = transform(X_test,onehot)"
   ]
  },
  {
   "cell_type": "code",
   "execution_count": 18,
   "metadata": {},
   "outputs": [
    {
     "data": {
      "text/html": [
       "<div>\n",
       "<style scoped>\n",
       "    .dataframe tbody tr th:only-of-type {\n",
       "        vertical-align: middle;\n",
       "    }\n",
       "\n",
       "    .dataframe tbody tr th {\n",
       "        vertical-align: top;\n",
       "    }\n",
       "\n",
       "    .dataframe thead th {\n",
       "        text-align: right;\n",
       "    }\n",
       "</style>\n",
       "<table border=\"1\" class=\"dataframe\">\n",
       "  <thead>\n",
       "    <tr style=\"text-align: right;\">\n",
       "      <th></th>\n",
       "      <th>Pclass</th>\n",
       "      <th>Age</th>\n",
       "      <th>SibSp</th>\n",
       "      <th>Parch</th>\n",
       "      <th>Fare</th>\n",
       "      <th>Alone</th>\n",
       "      <th>Embarked_C</th>\n",
       "      <th>Embarked_Q</th>\n",
       "      <th>Embarked_S</th>\n",
       "      <th>Sex_female</th>\n",
       "      <th>Sex_male</th>\n",
       "      <th>Title_Master</th>\n",
       "      <th>Title_Miss</th>\n",
       "      <th>Title_Mr</th>\n",
       "      <th>Title_Mrs</th>\n",
       "      <th>Title_Officer</th>\n",
       "      <th>Title_Royalty</th>\n",
       "    </tr>\n",
       "  </thead>\n",
       "  <tbody>\n",
       "    <tr>\n",
       "      <th>521</th>\n",
       "      <td>3</td>\n",
       "      <td>22.0</td>\n",
       "      <td>0</td>\n",
       "      <td>0</td>\n",
       "      <td>7.8958</td>\n",
       "      <td>0</td>\n",
       "      <td>0</td>\n",
       "      <td>0</td>\n",
       "      <td>1</td>\n",
       "      <td>0</td>\n",
       "      <td>1</td>\n",
       "      <td>0</td>\n",
       "      <td>0</td>\n",
       "      <td>1</td>\n",
       "      <td>0</td>\n",
       "      <td>0</td>\n",
       "      <td>0</td>\n",
       "    </tr>\n",
       "    <tr>\n",
       "      <th>523</th>\n",
       "      <td>1</td>\n",
       "      <td>44.0</td>\n",
       "      <td>0</td>\n",
       "      <td>1</td>\n",
       "      <td>57.9792</td>\n",
       "      <td>1</td>\n",
       "      <td>1</td>\n",
       "      <td>0</td>\n",
       "      <td>0</td>\n",
       "      <td>1</td>\n",
       "      <td>0</td>\n",
       "      <td>0</td>\n",
       "      <td>0</td>\n",
       "      <td>0</td>\n",
       "      <td>1</td>\n",
       "      <td>0</td>\n",
       "      <td>0</td>\n",
       "    </tr>\n",
       "    <tr>\n",
       "      <th>532</th>\n",
       "      <td>3</td>\n",
       "      <td>17.0</td>\n",
       "      <td>1</td>\n",
       "      <td>1</td>\n",
       "      <td>7.2292</td>\n",
       "      <td>1</td>\n",
       "      <td>1</td>\n",
       "      <td>0</td>\n",
       "      <td>0</td>\n",
       "      <td>0</td>\n",
       "      <td>1</td>\n",
       "      <td>0</td>\n",
       "      <td>0</td>\n",
       "      <td>1</td>\n",
       "      <td>0</td>\n",
       "      <td>0</td>\n",
       "      <td>0</td>\n",
       "    </tr>\n",
       "    <tr>\n",
       "      <th>27</th>\n",
       "      <td>1</td>\n",
       "      <td>19.0</td>\n",
       "      <td>3</td>\n",
       "      <td>2</td>\n",
       "      <td>263.0000</td>\n",
       "      <td>1</td>\n",
       "      <td>0</td>\n",
       "      <td>0</td>\n",
       "      <td>1</td>\n",
       "      <td>0</td>\n",
       "      <td>1</td>\n",
       "      <td>0</td>\n",
       "      <td>0</td>\n",
       "      <td>1</td>\n",
       "      <td>0</td>\n",
       "      <td>0</td>\n",
       "      <td>0</td>\n",
       "    </tr>\n",
       "    <tr>\n",
       "      <th>61</th>\n",
       "      <td>1</td>\n",
       "      <td>38.0</td>\n",
       "      <td>0</td>\n",
       "      <td>0</td>\n",
       "      <td>80.0000</td>\n",
       "      <td>0</td>\n",
       "      <td>0</td>\n",
       "      <td>0</td>\n",
       "      <td>1</td>\n",
       "      <td>1</td>\n",
       "      <td>0</td>\n",
       "      <td>0</td>\n",
       "      <td>1</td>\n",
       "      <td>0</td>\n",
       "      <td>0</td>\n",
       "      <td>0</td>\n",
       "      <td>0</td>\n",
       "    </tr>\n",
       "  </tbody>\n",
       "</table>\n",
       "</div>"
      ],
      "text/plain": [
       "     Pclass   Age  SibSp  Parch      Fare  Alone  Embarked_C  Embarked_Q  \\\n",
       "521       3  22.0      0      0    7.8958      0           0           0   \n",
       "523       1  44.0      0      1   57.9792      1           1           0   \n",
       "532       3  17.0      1      1    7.2292      1           1           0   \n",
       "27        1  19.0      3      2  263.0000      1           0           0   \n",
       "61        1  38.0      0      0   80.0000      0           0           0   \n",
       "\n",
       "     Embarked_S  Sex_female  Sex_male  Title_Master  Title_Miss  Title_Mr  \\\n",
       "521           1           0         1             0           0         1   \n",
       "523           0           1         0             0           0         0   \n",
       "532           0           0         1             0           0         1   \n",
       "27            1           0         1             0           0         1   \n",
       "61            1           1         0             0           1         0   \n",
       "\n",
       "     Title_Mrs  Title_Officer  Title_Royalty  \n",
       "521          0              0              0  \n",
       "523          1              0              0  \n",
       "532          0              0              0  \n",
       "27           0              0              0  \n",
       "61           0              0              0  "
      ]
     },
     "execution_count": 18,
     "metadata": {},
     "output_type": "execute_result"
    }
   ],
   "source": [
    "transformed_train_onehot.head()"
   ]
  },
  {
   "cell_type": "code",
   "execution_count": 19,
   "metadata": {},
   "outputs": [
    {
     "data": {
      "text/html": [
       "<div>\n",
       "<style scoped>\n",
       "    .dataframe tbody tr th:only-of-type {\n",
       "        vertical-align: middle;\n",
       "    }\n",
       "\n",
       "    .dataframe tbody tr th {\n",
       "        vertical-align: top;\n",
       "    }\n",
       "\n",
       "    .dataframe thead th {\n",
       "        text-align: right;\n",
       "    }\n",
       "</style>\n",
       "<table border=\"1\" class=\"dataframe\">\n",
       "  <thead>\n",
       "    <tr style=\"text-align: right;\">\n",
       "      <th></th>\n",
       "      <th>Pclass</th>\n",
       "      <th>Sex</th>\n",
       "      <th>Age</th>\n",
       "      <th>SibSp</th>\n",
       "      <th>Parch</th>\n",
       "      <th>Fare</th>\n",
       "      <th>Embarked</th>\n",
       "      <th>Alone</th>\n",
       "      <th>Title</th>\n",
       "    </tr>\n",
       "  </thead>\n",
       "  <tbody>\n",
       "    <tr>\n",
       "      <th>521</th>\n",
       "      <td>3</td>\n",
       "      <td>1.0</td>\n",
       "      <td>22.0</td>\n",
       "      <td>0</td>\n",
       "      <td>0</td>\n",
       "      <td>7.8958</td>\n",
       "      <td>2.0</td>\n",
       "      <td>0</td>\n",
       "      <td>2.0</td>\n",
       "    </tr>\n",
       "    <tr>\n",
       "      <th>523</th>\n",
       "      <td>1</td>\n",
       "      <td>0.0</td>\n",
       "      <td>44.0</td>\n",
       "      <td>0</td>\n",
       "      <td>1</td>\n",
       "      <td>57.9792</td>\n",
       "      <td>0.0</td>\n",
       "      <td>1</td>\n",
       "      <td>3.0</td>\n",
       "    </tr>\n",
       "    <tr>\n",
       "      <th>532</th>\n",
       "      <td>3</td>\n",
       "      <td>1.0</td>\n",
       "      <td>17.0</td>\n",
       "      <td>1</td>\n",
       "      <td>1</td>\n",
       "      <td>7.2292</td>\n",
       "      <td>0.0</td>\n",
       "      <td>1</td>\n",
       "      <td>2.0</td>\n",
       "    </tr>\n",
       "    <tr>\n",
       "      <th>27</th>\n",
       "      <td>1</td>\n",
       "      <td>1.0</td>\n",
       "      <td>19.0</td>\n",
       "      <td>3</td>\n",
       "      <td>2</td>\n",
       "      <td>263.0000</td>\n",
       "      <td>2.0</td>\n",
       "      <td>1</td>\n",
       "      <td>2.0</td>\n",
       "    </tr>\n",
       "    <tr>\n",
       "      <th>61</th>\n",
       "      <td>1</td>\n",
       "      <td>0.0</td>\n",
       "      <td>38.0</td>\n",
       "      <td>0</td>\n",
       "      <td>0</td>\n",
       "      <td>80.0000</td>\n",
       "      <td>2.0</td>\n",
       "      <td>0</td>\n",
       "      <td>1.0</td>\n",
       "    </tr>\n",
       "  </tbody>\n",
       "</table>\n",
       "</div>"
      ],
      "text/plain": [
       "     Pclass  Sex   Age  SibSp  Parch      Fare  Embarked  Alone  Title\n",
       "521       3  1.0  22.0      0      0    7.8958       2.0      0    2.0\n",
       "523       1  0.0  44.0      0      1   57.9792       0.0      1    3.0\n",
       "532       3  1.0  17.0      1      1    7.2292       0.0      1    2.0\n",
       "27        1  1.0  19.0      3      2  263.0000       2.0      1    2.0\n",
       "61        1  0.0  38.0      0      0   80.0000       2.0      0    1.0"
      ]
     },
     "execution_count": 19,
     "metadata": {},
     "output_type": "execute_result"
    }
   ],
   "source": [
    "transformed_train_ordinal = transform(X_train,ordinal)\n",
    "transformed_test_ordinal = transform(X_test,ordinal)\n",
    "transformed_train_ordinal.head()"
   ]
  },
  {
   "cell_type": "markdown",
   "metadata": {},
   "source": [
    "## 1.3 Standardizing\n",
    "Many algorithms benefit from having mean 0 and variance 1, especially for continuous variables.\n",
    "<br>\n",
    "Since we use PCA, this method is preferred to others such as min/max normalization\n",
    "<br>\n",
    "Also, the test set should be normalized by the train set's mean and std."
   ]
  },
  {
   "cell_type": "code",
   "execution_count": 20,
   "metadata": {},
   "outputs": [],
   "source": [
    "def standardize(dataset, means = None , stds = None ,columns = [\"Age\",\"Fare\"]):\n",
    "    \"\"\"If means is null, it will standardize using the dataframe's values.\n",
    "    If the means is given, it will use these and the std's provided.\"\"\"\n",
    "    standardized_dataset = dataset.copy()\n",
    "    for i,column_name in enumerate(columns):\n",
    "        column = standardized_dataset[column_name]\n",
    "        if means is None:\n",
    "            mean = column.mean()\n",
    "            std = column.std()\n",
    "        else:\n",
    "            mean = means[i]\n",
    "            std = stds[i]\n",
    "        standardized_dataset[column_name] = (column - mean) / std\n",
    "    return standardized_dataset"
   ]
  },
  {
   "cell_type": "code",
   "execution_count": 21,
   "metadata": {},
   "outputs": [],
   "source": [
    "means = [transformed_train_ordinal.Age.mean(),transformed_train_ordinal.Fare.mean()]\n",
    "stds = [transformed_train_ordinal.Age.std(), transformed_train_ordinal.Fare.std()]\n",
    "standardized_train_ordinal = standardize(transformed_train_ordinal)\n",
    "standardized_test_ordinal =  standardize(transformed_test_ordinal, means,stds)\n"
   ]
  },
  {
   "cell_type": "markdown",
   "metadata": {},
   "source": [
    "Double checking that the standardization was done correctly:\n",
    "The test mean is not 0 due to the train-test mismatch"
   ]
  },
  {
   "cell_type": "code",
   "execution_count": 22,
   "metadata": {},
   "outputs": [
    {
     "data": {
      "text/plain": [
       "0.09261075635116654"
      ]
     },
     "execution_count": 22,
     "metadata": {},
     "output_type": "execute_result"
    }
   ],
   "source": [
    "standardized_test_ordinal.Age.mean()"
   ]
  },
  {
   "cell_type": "code",
   "execution_count": 23,
   "metadata": {},
   "outputs": [
    {
     "data": {
      "text/plain": [
       "7.172789204038933e-17"
      ]
     },
     "execution_count": 23,
     "metadata": {},
     "output_type": "execute_result"
    }
   ],
   "source": [
    "standardized_train_ordinal.Age.mean()"
   ]
  },
  {
   "cell_type": "markdown",
   "metadata": {},
   "source": [
    "## 1.4 Save all the preprocessing steps"
   ]
  },
  {
   "cell_type": "code",
   "execution_count": 24,
   "metadata": {},
   "outputs": [],
   "source": [
    "raw_train = pd.read_csv(raw_data_folder+'train.csv')\n",
    "raw_test = pd.read_csv(raw_data_folder+'test.csv')\n",
    "\n",
    "imputed_train = imputing(raw_train)\n",
    "imputed_test = imputing(raw_test, age_value = raw_train.Age.mean())\n",
    "\n",
    "\n",
    "imputed_train.to_csv(processed_data_folder+\"imputed_train.csv\",index = False)\n",
    "imputed_test.to_csv(processed_data_folder +\"imputed_test.csv\",index = False)"
   ]
  },
  {
   "cell_type": "code",
   "execution_count": 25,
   "metadata": {},
   "outputs": [],
   "source": [
    "ordinal = OrdinalEncoder()\n",
    "onehot = OneHotEncoder()\n",
    "\n",
    "ordinal_train = transform(imputed_train,ordinal)\n",
    "onehot_train = transform(imputed_train,onehot)\n",
    "\n",
    "ordinal_test = transform(imputed_test,ordinal)\n",
    "onehot_test = transform(imputed_test,onehot)\n",
    "\n",
    "\n",
    "ordinal_train.to_csv(processed_data_folder + \"transformed_train_ordinal.csv\",index = False)\n",
    "onehot_train.to_csv(processed_data_folder + \"transformed_train_onehot.csv\",index = False)\n",
    "\n",
    "ordinal_train.to_csv(processed_data_folder + \"transformed_test_ordinal.csv\",index = False)\n",
    "onehot_test.to_csv(processed_data_folder + \"transformed_test_onehot.csv\",index = False)"
   ]
  },
  {
   "cell_type": "code",
   "execution_count": 26,
   "metadata": {},
   "outputs": [],
   "source": [
    "means = [ordinal_train.Age.mean(),ordinal_train.Fare.mean()]\n",
    "stds = [ordinal_train.Age.std(), ordinal_train.Fare.std()]\n",
    "standardized_train_ordinal = standardize(ordinal_train)\n",
    "standardized_test_ordinal=  standardize(ordinal_test, means,stds)\n",
    "\n",
    "standardized_train_ordinal.to_csv(processed_data_folder + \"standardized_train_ordinal.csv\",index = False)\n",
    "standardized_test_ordinal.to_csv(processed_data_folder + \"standardized_test_ordinal.csv\",index = False)\n",
    "\n",
    "\n",
    "means = [onehot_train.Age.mean(),onehot_train.Fare.mean()]\n",
    "stds = [onehot_train.Age.std(), onehot_train.Fare.std()]\n",
    "standardized_train_onehot = standardize(onehot_train)\n",
    "standardized_test_onehot=  standardize(onehot_test, means,stds)\n",
    "\n",
    "standardized_train_onehot.to_csv(processed_data_folder + \"standardized_train_onehot.csv\",index = False)\n",
    "standardized_test_onehot.to_csv(processed_data_folder + \"standardized_test_onehot.csv\",index = False)"
   ]
  },
  {
   "cell_type": "markdown",
   "metadata": {},
   "source": [
    "# 2. Visualisation"
   ]
  },
  {
   "cell_type": "code",
   "execution_count": 27,
   "metadata": {},
   "outputs": [],
   "source": [
    "train_data = pd.read_csv(processed_data_folder + 'imputed_train.csv')\n",
    "test_data = pd.read_csv(processed_data_folder + 'imputed_test.csv')\n"
   ]
  },
  {
   "cell_type": "markdown",
   "metadata": {},
   "source": [
    "We recheck if we imputed all of the values needed."
   ]
  },
  {
   "cell_type": "code",
   "execution_count": 28,
   "metadata": {},
   "outputs": [
    {
     "name": "stdout",
     "output_type": "stream",
     "text": [
      "<class 'pandas.core.frame.DataFrame'>\n",
      "RangeIndex: 891 entries, 0 to 890\n",
      "Data columns (total 12 columns):\n",
      " #   Column       Non-Null Count  Dtype  \n",
      "---  ------       --------------  -----  \n",
      " 0   PassengerId  891 non-null    int64  \n",
      " 1   Survived     891 non-null    int64  \n",
      " 2   Pclass       891 non-null    int64  \n",
      " 3   Name         891 non-null    object \n",
      " 4   Sex          891 non-null    object \n",
      " 5   Age          891 non-null    float64\n",
      " 6   SibSp        891 non-null    int64  \n",
      " 7   Parch        891 non-null    int64  \n",
      " 8   Ticket       891 non-null    object \n",
      " 9   Fare         891 non-null    float64\n",
      " 10  Embarked     891 non-null    object \n",
      " 11  Alone        891 non-null    int64  \n",
      "dtypes: float64(2), int64(6), object(4)\n",
      "memory usage: 83.7+ KB\n",
      "<class 'pandas.core.frame.DataFrame'>\n",
      "RangeIndex: 418 entries, 0 to 417\n",
      "Data columns (total 11 columns):\n",
      " #   Column       Non-Null Count  Dtype  \n",
      "---  ------       --------------  -----  \n",
      " 0   PassengerId  418 non-null    int64  \n",
      " 1   Pclass       418 non-null    int64  \n",
      " 2   Name         418 non-null    object \n",
      " 3   Sex          418 non-null    object \n",
      " 4   Age          418 non-null    float64\n",
      " 5   SibSp        418 non-null    int64  \n",
      " 6   Parch        418 non-null    int64  \n",
      " 7   Ticket       418 non-null    object \n",
      " 8   Fare         418 non-null    float64\n",
      " 9   Embarked     418 non-null    object \n",
      " 10  Alone        418 non-null    int64  \n",
      "dtypes: float64(2), int64(5), object(4)\n",
      "memory usage: 36.0+ KB\n"
     ]
    }
   ],
   "source": [
    "train_data.info()\n",
    "test_data.info()"
   ]
  },
  {
   "cell_type": "markdown",
   "metadata": {},
   "source": [
    "For data with low cardinality, we will use pie charts. Numerical columns, even some of the ones with low cardinality, are better visualised using methods such as histograms."
   ]
  },
  {
   "cell_type": "code",
   "execution_count": 29,
   "metadata": {},
   "outputs": [
    {
     "data": {
      "text/html": [
       "<div>\n",
       "<style scoped>\n",
       "    .dataframe tbody tr th:only-of-type {\n",
       "        vertical-align: middle;\n",
       "    }\n",
       "\n",
       "    .dataframe tbody tr th {\n",
       "        vertical-align: top;\n",
       "    }\n",
       "\n",
       "    .dataframe thead th {\n",
       "        text-align: right;\n",
       "    }\n",
       "</style>\n",
       "<table border=\"1\" class=\"dataframe\">\n",
       "  <thead>\n",
       "    <tr style=\"text-align: right;\">\n",
       "      <th></th>\n",
       "      <th>PassengerId</th>\n",
       "      <th>Survived</th>\n",
       "      <th>Pclass</th>\n",
       "      <th>Name</th>\n",
       "      <th>Sex</th>\n",
       "      <th>Age</th>\n",
       "      <th>SibSp</th>\n",
       "      <th>Parch</th>\n",
       "      <th>Ticket</th>\n",
       "      <th>Fare</th>\n",
       "      <th>Embarked</th>\n",
       "      <th>Alone</th>\n",
       "    </tr>\n",
       "  </thead>\n",
       "  <tbody>\n",
       "    <tr>\n",
       "      <th>0</th>\n",
       "      <td>891</td>\n",
       "      <td>2</td>\n",
       "      <td>3</td>\n",
       "      <td>891</td>\n",
       "      <td>2</td>\n",
       "      <td>89</td>\n",
       "      <td>7</td>\n",
       "      <td>7</td>\n",
       "      <td>681</td>\n",
       "      <td>248</td>\n",
       "      <td>3</td>\n",
       "      <td>2</td>\n",
       "    </tr>\n",
       "    <tr>\n",
       "      <th>1</th>\n",
       "      <td>int64</td>\n",
       "      <td>int64</td>\n",
       "      <td>int64</td>\n",
       "      <td>object</td>\n",
       "      <td>object</td>\n",
       "      <td>float64</td>\n",
       "      <td>int64</td>\n",
       "      <td>int64</td>\n",
       "      <td>object</td>\n",
       "      <td>float64</td>\n",
       "      <td>object</td>\n",
       "      <td>int64</td>\n",
       "    </tr>\n",
       "  </tbody>\n",
       "</table>\n",
       "</div>"
      ],
      "text/plain": [
       "  PassengerId Survived Pclass    Name     Sex      Age  SibSp  Parch  Ticket  \\\n",
       "0         891        2      3     891       2       89      7      7     681   \n",
       "1       int64    int64  int64  object  object  float64  int64  int64  object   \n",
       "\n",
       "      Fare Embarked  Alone  \n",
       "0      248        3      2  \n",
       "1  float64   object  int64  "
      ]
     },
     "execution_count": 29,
     "metadata": {},
     "output_type": "execute_result"
    }
   ],
   "source": [
    "types = train_data.dtypes\n",
    "pd.DataFrame([train_data.apply(pd.Series.nunique),types])"
   ]
  },
  {
   "cell_type": "markdown",
   "metadata": {},
   "source": [
    "First we will look at the distribution of surivivors."
   ]
  },
  {
   "cell_type": "code",
   "execution_count": 30,
   "metadata": {},
   "outputs": [
    {
     "data": {
      "text/plain": [
       "<matplotlib.axes._subplots.AxesSubplot at 0x21a54698648>"
      ]
     },
     "execution_count": 30,
     "metadata": {},
     "output_type": "execute_result"
    },
    {
     "data": {
      "image/png": "[encoded data removed]",
      "text/plain": [
       "<Figure size 432x288 with 1 Axes>"
      ]
     },
     "metadata": {},
     "output_type": "display_data"
    }
   ],
   "source": [
    "ax = plt.subplot()\n",
    "explode = [0.1,0]\n",
    "train_data.Survived.value_counts().plot(kind = 'pie', ax = ax, autopct='%1.1f%%', shadow = True, explode = explode)\n"
   ]
  },
  {
   "cell_type": "markdown",
   "metadata": {},
   "source": [
    "## 2.1 Test - train discrepancy\n",
    "We should compare the distrution in the test set and the train set to see if the data distributions vary too greatly for some variables. If that is the case, some methods to correct this issue might be needed."
   ]
  },
  {
   "cell_type": "code",
   "execution_count": 31,
   "metadata": {},
   "outputs": [
    {
     "data": {
      "image/png": "[encoded data removed]",
      "text/plain": [
       "<Figure size 864x576 with 4 Axes>"
      ]
     },
     "metadata": {},
     "output_type": "display_data"
    }
   ],
   "source": [
    "\n",
    "cols = ['{}'.format(col) for col in ['Train',\"Test\"]]\n",
    "rows = ['{}'.format(row) for row in ['Pclass', 'Sex']]\n",
    "\n",
    "fig, axes = plt.subplots(nrows=2, ncols=2, figsize=(12, 8))\n",
    "\n",
    "\n",
    "train_data.Pclass.value_counts().plot(kind = 'pie', ax = axes[0][0], autopct='%1.1f%%', shadow = True, title = \"Train\")\n",
    "test_data.Pclass.value_counts().plot(kind = 'pie', ax = axes[0][1], autopct='%1.1f%%', shadow = True, title = \"Test\")\n",
    "train_data.Sex.value_counts().plot(kind = 'pie', ax = axes[1][0], autopct='%1.1f%%', shadow = True, explode = explode)\n",
    "test_data.Sex.value_counts().plot(kind = 'pie', ax = axes[1][1], autopct='%1.1f%%', shadow = True, explode = explode)\n",
    "\n",
    "\n",
    "for ax, col in zip(axes[0], cols):\n",
    "    ax.set_title(col)\n",
    "\n",
    "for ax, row in zip(axes[:,0], rows):\n",
    "    ax.set_ylabel(row, rotation=0, size='large')\n",
    "fig.tight_layout()\n",
    "plt.show()"
   ]
  },
  {
   "cell_type": "code",
   "execution_count": 32,
   "metadata": {},
   "outputs": [
    {
     "data": {
      "text/plain": [
       "<matplotlib.collections.LineCollection at 0x21a546dad88>"
      ]
     },
     "execution_count": 32,
     "metadata": {},
     "output_type": "execute_result"
    },
    {
     "data": {
      "image/png": "[encoded data removed]",
      "text/plain": [
       "<Figure size 720x360 with 1 Axes>"
      ]
     },
     "metadata": {
      "needs_background": "light"
     },
     "output_type": "display_data"
    }
   ],
   "source": [
    "fig, ax = plt.subplots(figsize = (10,5))\n",
    "train_data.Age.hist(ax =ax , label = \"train\")\n",
    "test_data.Age.hist(ax = ax, label = \"test\")\n",
    "ax.legend(loc = \"upper right\")\n",
    "ax.vlines(x=[train_data.Age.mean(), test_data.Age.mean()],ymin= 0, ymax = 350, color='r', linestyle='dashed', linewidth=1)"
   ]
  },
  {
   "cell_type": "markdown",
   "metadata": {},
   "source": [
    "#### Conclusion:\n",
    "We can see that the distributions match well enough, so no measure to adjust the training set or oversample is required.\n",
    "<br>\n",
    "Now, we can move on to :\n",
    "## 2.2 Visualising feature importance and correlation"
   ]
  },
  {
   "cell_type": "code",
   "execution_count": 33,
   "metadata": {},
   "outputs": [
    {
     "data": {
      "text/plain": [
       "<seaborn.axisgrid.FacetGrid at 0x21a54590e48>"
      ]
     },
     "execution_count": 33,
     "metadata": {},
     "output_type": "execute_result"
    },
    {
     "data": {
      "image/png": "[encoded data removed]",
      "text/plain": [
       "<Figure size 915.875x216 with 1 Axes>"
      ]
     },
     "metadata": {
      "needs_background": "light"
     },
     "output_type": "display_data"
    }
   ],
   "source": [
    "a = sns.FacetGrid( train_data, hue = 'Survived', aspect=4 )\n",
    "a.map(sns.kdeplot, 'Age', shade= True )\n",
    "a.set(xlim=(0 , train_data['Age'].max()))\n",
    "a.add_legend()"
   ]
  },
  {
   "cell_type": "markdown",
   "metadata": {},
   "source": [
    "To better visualize the distribution of survivors in respect to some features, we add a \"died\" column, used just for visualisation as to not introduce too much correlation between variables"
   ]
  },
  {
   "cell_type": "code",
   "execution_count": 34,
   "metadata": {},
   "outputs": [
    {
     "data": {
      "image/png": "[encoded data removed]",
      "text/plain": [
       "<Figure size 1800x504 with 1 Axes>"
      ]
     },
     "metadata": {
      "needs_background": "light"
     },
     "output_type": "display_data"
    }
   ],
   "source": [
    "train_data[\"Died\"] = 1 - train_data.Survived\n",
    "train_data.groupby('Sex').agg('sum')[['Survived', 'Died']].plot(kind='bar', figsize=(25, 7),\n",
    "                                                          stacked=True);"
   ]
  },
  {
   "cell_type": "code",
   "execution_count": 35,
   "metadata": {},
   "outputs": [
    {
     "data": {
      "text/html": [
       "<div>\n",
       "<style scoped>\n",
       "    .dataframe tbody tr th:only-of-type {\n",
       "        vertical-align: middle;\n",
       "    }\n",
       "\n",
       "    .dataframe tbody tr th {\n",
       "        vertical-align: top;\n",
       "    }\n",
       "\n",
       "    .dataframe thead th {\n",
       "        text-align: right;\n",
       "    }\n",
       "</style>\n",
       "<table border=\"1\" class=\"dataframe\">\n",
       "  <thead>\n",
       "    <tr style=\"text-align: right;\">\n",
       "      <th></th>\n",
       "      <th>Survived</th>\n",
       "      <th>Pclass</th>\n",
       "      <th>Sex</th>\n",
       "      <th>Age</th>\n",
       "      <th>SibSp</th>\n",
       "      <th>Parch</th>\n",
       "      <th>Fare</th>\n",
       "      <th>Embarked</th>\n",
       "      <th>Alone</th>\n",
       "      <th>Title</th>\n",
       "    </tr>\n",
       "  </thead>\n",
       "  <tbody>\n",
       "    <tr>\n",
       "      <th>0</th>\n",
       "      <td>0</td>\n",
       "      <td>3</td>\n",
       "      <td>1.0</td>\n",
       "      <td>22.000000</td>\n",
       "      <td>1</td>\n",
       "      <td>0</td>\n",
       "      <td>7.2500</td>\n",
       "      <td>2.0</td>\n",
       "      <td>1</td>\n",
       "      <td>2.0</td>\n",
       "    </tr>\n",
       "    <tr>\n",
       "      <th>1</th>\n",
       "      <td>1</td>\n",
       "      <td>1</td>\n",
       "      <td>0.0</td>\n",
       "      <td>38.000000</td>\n",
       "      <td>1</td>\n",
       "      <td>0</td>\n",
       "      <td>71.2833</td>\n",
       "      <td>0.0</td>\n",
       "      <td>1</td>\n",
       "      <td>3.0</td>\n",
       "    </tr>\n",
       "    <tr>\n",
       "      <th>2</th>\n",
       "      <td>1</td>\n",
       "      <td>3</td>\n",
       "      <td>0.0</td>\n",
       "      <td>26.000000</td>\n",
       "      <td>0</td>\n",
       "      <td>0</td>\n",
       "      <td>7.9250</td>\n",
       "      <td>2.0</td>\n",
       "      <td>0</td>\n",
       "      <td>1.0</td>\n",
       "    </tr>\n",
       "    <tr>\n",
       "      <th>3</th>\n",
       "      <td>1</td>\n",
       "      <td>1</td>\n",
       "      <td>0.0</td>\n",
       "      <td>35.000000</td>\n",
       "      <td>1</td>\n",
       "      <td>0</td>\n",
       "      <td>53.1000</td>\n",
       "      <td>2.0</td>\n",
       "      <td>1</td>\n",
       "      <td>3.0</td>\n",
       "    </tr>\n",
       "    <tr>\n",
       "      <th>4</th>\n",
       "      <td>0</td>\n",
       "      <td>3</td>\n",
       "      <td>1.0</td>\n",
       "      <td>35.000000</td>\n",
       "      <td>0</td>\n",
       "      <td>0</td>\n",
       "      <td>8.0500</td>\n",
       "      <td>2.0</td>\n",
       "      <td>0</td>\n",
       "      <td>2.0</td>\n",
       "    </tr>\n",
       "    <tr>\n",
       "      <th>...</th>\n",
       "      <td>...</td>\n",
       "      <td>...</td>\n",
       "      <td>...</td>\n",
       "      <td>...</td>\n",
       "      <td>...</td>\n",
       "      <td>...</td>\n",
       "      <td>...</td>\n",
       "      <td>...</td>\n",
       "      <td>...</td>\n",
       "      <td>...</td>\n",
       "    </tr>\n",
       "    <tr>\n",
       "      <th>886</th>\n",
       "      <td>0</td>\n",
       "      <td>2</td>\n",
       "      <td>1.0</td>\n",
       "      <td>27.000000</td>\n",
       "      <td>0</td>\n",
       "      <td>0</td>\n",
       "      <td>13.0000</td>\n",
       "      <td>2.0</td>\n",
       "      <td>0</td>\n",
       "      <td>4.0</td>\n",
       "    </tr>\n",
       "    <tr>\n",
       "      <th>887</th>\n",
       "      <td>1</td>\n",
       "      <td>1</td>\n",
       "      <td>0.0</td>\n",
       "      <td>19.000000</td>\n",
       "      <td>0</td>\n",
       "      <td>0</td>\n",
       "      <td>30.0000</td>\n",
       "      <td>2.0</td>\n",
       "      <td>0</td>\n",
       "      <td>1.0</td>\n",
       "    </tr>\n",
       "    <tr>\n",
       "      <th>888</th>\n",
       "      <td>0</td>\n",
       "      <td>3</td>\n",
       "      <td>0.0</td>\n",
       "      <td>29.699118</td>\n",
       "      <td>1</td>\n",
       "      <td>2</td>\n",
       "      <td>23.4500</td>\n",
       "      <td>2.0</td>\n",
       "      <td>1</td>\n",
       "      <td>1.0</td>\n",
       "    </tr>\n",
       "    <tr>\n",
       "      <th>889</th>\n",
       "      <td>1</td>\n",
       "      <td>1</td>\n",
       "      <td>1.0</td>\n",
       "      <td>26.000000</td>\n",
       "      <td>0</td>\n",
       "      <td>0</td>\n",
       "      <td>30.0000</td>\n",
       "      <td>0.0</td>\n",
       "      <td>0</td>\n",
       "      <td>2.0</td>\n",
       "    </tr>\n",
       "    <tr>\n",
       "      <th>890</th>\n",
       "      <td>0</td>\n",
       "      <td>3</td>\n",
       "      <td>1.0</td>\n",
       "      <td>32.000000</td>\n",
       "      <td>0</td>\n",
       "      <td>0</td>\n",
       "      <td>7.7500</td>\n",
       "      <td>1.0</td>\n",
       "      <td>0</td>\n",
       "      <td>2.0</td>\n",
       "    </tr>\n",
       "  </tbody>\n",
       "</table>\n",
       "<p>891 rows × 10 columns</p>\n",
       "</div>"
      ],
      "text/plain": [
       "     Survived  Pclass  Sex        Age  SibSp  Parch     Fare  Embarked  Alone  \\\n",
       "0           0       3  1.0  22.000000      1      0   7.2500       2.0      1   \n",
       "1           1       1  0.0  38.000000      1      0  71.2833       0.0      1   \n",
       "2           1       3  0.0  26.000000      0      0   7.9250       2.0      0   \n",
       "3           1       1  0.0  35.000000      1      0  53.1000       2.0      1   \n",
       "4           0       3  1.0  35.000000      0      0   8.0500       2.0      0   \n",
       "..        ...     ...  ...        ...    ...    ...      ...       ...    ...   \n",
       "886         0       2  1.0  27.000000      0      0  13.0000       2.0      0   \n",
       "887         1       1  0.0  19.000000      0      0  30.0000       2.0      0   \n",
       "888         0       3  0.0  29.699118      1      2  23.4500       2.0      1   \n",
       "889         1       1  1.0  26.000000      0      0  30.0000       0.0      0   \n",
       "890         0       3  1.0  32.000000      0      0   7.7500       1.0      0   \n",
       "\n",
       "     Title  \n",
       "0      2.0  \n",
       "1      3.0  \n",
       "2      1.0  \n",
       "3      3.0  \n",
       "4      2.0  \n",
       "..     ...  \n",
       "886    4.0  \n",
       "887    1.0  \n",
       "888    1.0  \n",
       "889    2.0  \n",
       "890    2.0  \n",
       "\n",
       "[891 rows x 10 columns]"
      ]
     },
     "execution_count": 35,
     "metadata": {},
     "output_type": "execute_result"
    }
   ],
   "source": [
    "transformed = pd.read_csv(processed_data_folder + \"transformed_train_ordinal.csv\")\n",
    "transformed"
   ]
  },
  {
   "cell_type": "markdown",
   "metadata": {},
   "source": [
    "<br>\n",
    "<br>\n",
    "We will now analyze the correlations in the dataset, taking into account the transformed variables\n",
    "<br>\n",
    "Note that we introduced a highly correlated value when adding the \"Alone\" columns, because it is strictly based off of siblings and children. However, a binary value in this case may be useful.\n",
    "<br>\n",
    "The second highest is unsuprinsingly between Fare and Class, a higher value of Class implying the ticket was less expensive.\n",
    "<br>\n",
    "Two interesting correlations can be observed, which are a direct effect of the course of action taken after the disaster:\n",
    "1. A \"woman and children first\" policy was followed, explaining the high value in the (Sex,Survived) entry\n",
    "2. Wealthier people were prioritised this situation: \"Third-class passengers were largely left to fend for themselves, causing many of them to become trapped below decks as the ship filled with water.\" (Quote from the article on wikipedia)\n",
    "\n",
    "To test the first affirmation, we can plot the survivors in respect to age corelated with sex."
   ]
  },
  {
   "cell_type": "code",
   "execution_count": 36,
   "metadata": {
    "scrolled": true
   },
   "outputs": [
    {
     "data": {
      "image/png": "[encoded data removed]",
      "text/plain": [
       "<Figure size 504x288 with 1 Axes>"
      ]
     },
     "metadata": {
      "needs_background": "light"
     },
     "output_type": "display_data"
    }
   ],
   "source": [
    "fig = plt.figure(figsize=(7, 4))\n",
    "sns.violinplot(x='Sex', y='Age', \n",
    "               hue='Survived', data=transformed, \n",
    "               split=True,\n",
    "              );"
   ]
  },
  {
   "cell_type": "markdown",
   "metadata": {},
   "source": [
    "The second affirmation may be visualised with a stacked graph, now focusing on the percentage rather than the raw number, removing the prior probability to have a certain class."
   ]
  },
  {
   "cell_type": "code",
   "execution_count": 37,
   "metadata": {},
   "outputs": [
    {
     "data": {
      "image/png": "[encoded data removed]",
      "text/plain": [
       "<Figure size 1800x504 with 1 Axes>"
      ]
     },
     "metadata": {
      "needs_background": "light"
     },
     "output_type": "display_data"
    }
   ],
   "source": [
    "train_data[\"Died\"] = 1 - train_data.Survived\n",
    "train_data.groupby('Pclass').agg('mean')[['Survived', 'Died']].plot(kind='bar', figsize=(25, 7),\n",
    "                                                          stacked=True);"
   ]
  },
  {
   "cell_type": "code",
   "execution_count": 38,
   "metadata": {},
   "outputs": [
    {
     "data": {
      "image/png": "[encoded data removed]",
      "text/plain": [
       "<Figure size 648x648 with 2 Axes>"
      ]
     },
     "metadata": {
      "needs_background": "light"
     },
     "output_type": "display_data"
    }
   ],
   "source": [
    "def correlation_heatmap(df):\n",
    "    _ , ax = plt.subplots(figsize =(9, 9))\n",
    "    colormap = sns.diverging_palette(220, 10, as_cmap = True)\n",
    "    \n",
    "    _ = sns.heatmap(\n",
    "        df.corr(), \n",
    "        cmap = colormap,\n",
    "        square=True, \n",
    "        cbar_kws={'shrink':.9 }, \n",
    "        ax=ax,\n",
    "        annot=True, \n",
    "        linewidths=0.1,vmax=1.0, linecolor='white',\n",
    "        annot_kws={'fontsize':12 }\n",
    "    )\n",
    "    \n",
    "    plt.title('Pearson Correlation of Features', y=1.05, size=15)\n",
    "\n",
    "correlation_heatmap(transformed)\n"
   ]
  },
  {
   "cell_type": "markdown",
   "metadata": {},
   "source": [
    "To further visualise the feature importance, we can fit a tree model such as xgboost, most models having built-in functions for this endeavor. For this, we will also need to use the standardized dataset. We can also compare the difference in feature importance between the two encodings."
   ]
  },
  {
   "cell_type": "code",
   "execution_count": 39,
   "metadata": {},
   "outputs": [],
   "source": [
    "def get_feature_importance(X,Y):\n",
    "    xgb = XGBClassifier()\n",
    "    xgb.fit(X,Y)\n",
    "    importances = pd.Series(xgb.feature_importances_, index = X.columns)\n",
    "    return importances\n",
    "standardized_ordinal = pd.read_csv(processed_data_folder + \"standardized_train_ordinal.csv\")\n",
    "standardized_onehot = pd.read_csv(processed_data_folder + \"standardized_train_onehot.csv\")"
   ]
  },
  {
   "cell_type": "code",
   "execution_count": 40,
   "metadata": {},
   "outputs": [],
   "source": [
    "ordinal_split = split_train(standardized_ordinal,0)\n",
    "onehot_split = split_train(standardized_onehot,0)"
   ]
  },
  {
   "cell_type": "code",
   "execution_count": 41,
   "metadata": {},
   "outputs": [
    {
     "data": {
      "text/plain": [
       "<matplotlib.axes._subplots.AxesSubplot at 0x21a55545688>"
      ]
     },
     "execution_count": 41,
     "metadata": {},
     "output_type": "execute_result"
    },
    {
     "data": {
      "image/png": "[encoded data removed]",
      "text/plain": [
       "<Figure size 432x288 with 1 Axes>"
      ]
     },
     "metadata": {
      "needs_background": "light"
     },
     "output_type": "display_data"
    }
   ],
   "source": [
    "onehot_importances = get_feature_importance(onehot_split[0],onehot_split[2])\n",
    "onehot_importances.plot(kind = 'bar')"
   ]
  },
  {
   "cell_type": "code",
   "execution_count": 42,
   "metadata": {},
   "outputs": [],
   "source": [
    "ordinal_importances = get_feature_importance(ordinal_split[0],onehot_split[2])"
   ]
  },
  {
   "cell_type": "code",
   "execution_count": 43,
   "metadata": {},
   "outputs": [
    {
     "data": {
      "text/plain": [
       "<matplotlib.axes._subplots.AxesSubplot at 0x21a55303f48>"
      ]
     },
     "execution_count": 43,
     "metadata": {},
     "output_type": "execute_result"
    },
    {
     "data": {
      "image/png": "[encoded data removed]",
      "text/plain": [
       "<Figure size 432x288 with 1 Axes>"
      ]
     },
     "metadata": {
      "needs_background": "light"
     },
     "output_type": "display_data"
    }
   ],
   "source": [
    "ordinal_importances.plot(kind=\"bar\")"
   ]
  },
  {
   "cell_type": "markdown",
   "metadata": {},
   "source": [
    "From this visualization we can conclude that while sex is certainly the most important deciding factor by a long shot(expressed by Sex in the ordinal encoding and the \"Mr\" title in the onehot), the two encoding tend to give very large differences in feature importance. Because of this, we should train the models separately for these 2 cases and see which tends to do better on a validation set to decide what is our prime model/models and their corresponding encoding"
   ]
  },
  {
   "cell_type": "markdown",
   "metadata": {},
   "source": [
    "# 3. Exploratory analysis"
   ]
  },
  {
   "cell_type": "markdown",
   "metadata": {},
   "source": [
    "For PCA to work, we will need to fully process the dataset, then standardize it to have mean 0 and standard deviation 1.\n",
    "<br>\n",
    "Then, we can visualize the difference between the two encodings and try to observe if one gives far better separation than the other"
   ]
  },
  {
   "cell_type": "code",
   "execution_count": 44,
   "metadata": {},
   "outputs": [],
   "source": [
    "# %matplotlib notebook\n",
    "# if we run this part separately and use the magic command above, we get 3D movable graphics"
   ]
  },
  {
   "cell_type": "code",
   "execution_count": 45,
   "metadata": {},
   "outputs": [],
   "source": [
    "data_ordinal = pd.read_csv(processed_data_folder + \"standardized_train_ordinal.csv\")\n",
    "data_onehot = pd.read_csv(processed_data_folder + \"standardized_train_onehot.csv\")\n",
    "\n",
    "target = data_ordinal.Survived\n",
    "\n",
    "data_ordinal.drop(\"Survived\",axis = 1, inplace = True)\n",
    "data_onehot.drop(\"Survived\",axis = 1, inplace = True)"
   ]
  },
  {
   "cell_type": "code",
   "execution_count": 46,
   "metadata": {},
   "outputs": [
    {
     "name": "stdout",
     "output_type": "stream",
     "text": [
      "(891, 3)\n"
     ]
    },
    {
     "data": {
      "text/plain": [
       "<mpl_toolkits.mplot3d.art3d.Path3DCollection at 0x21a553caf08>"
      ]
     },
     "execution_count": 46,
     "metadata": {},
     "output_type": "execute_result"
    },
    {
     "data": {
      "image/png": "[encoded data removed]",
      "text/plain": [
       "<Figure size 432x288 with 1 Axes>"
      ]
     },
     "metadata": {
      "needs_background": "light"
     },
     "output_type": "display_data"
    }
   ],
   "source": [
    "pca = PCA(n_components = 3)\n",
    "projected = pca.fit_transform(data_ordinal)\n",
    "\n",
    "ax = plt.axes(projection = '3d')\n",
    "print(projected.shape)\n",
    "ax.set_title(\"Ordinal\")\n",
    "ax.scatter3D(projected[:, 0], projected[:, 1],projected[:,2],\n",
    "            c=target, alpha=0.5,\n",
    "            cmap=plt.cm.get_cmap('Spectral', 10))"
   ]
  },
  {
   "cell_type": "code",
   "execution_count": 47,
   "metadata": {},
   "outputs": [],
   "source": [
    "# principal_components = pca.fit(data).components_"
   ]
  },
  {
   "cell_type": "code",
   "execution_count": 48,
   "metadata": {},
   "outputs": [],
   "source": [
    "# pd.DataFrame(principal_components,columns = data.columns)"
   ]
  },
  {
   "cell_type": "code",
   "execution_count": 49,
   "metadata": {},
   "outputs": [
    {
     "name": "stdout",
     "output_type": "stream",
     "text": [
      "(891, 3)\n"
     ]
    },
    {
     "data": {
      "text/plain": [
       "<mpl_toolkits.mplot3d.art3d.Path3DCollection at 0x21a57af5a88>"
      ]
     },
     "execution_count": 49,
     "metadata": {},
     "output_type": "execute_result"
    },
    {
     "data": {
      "image/png": "[encoded data removed]",
      "text/plain": [
       "<Figure size 432x288 with 1 Axes>"
      ]
     },
     "metadata": {
      "needs_background": "light"
     },
     "output_type": "display_data"
    }
   ],
   "source": [
    "pca = PCA(n_components = 3)\n",
    "projected = pca.fit_transform(data_onehot)\n",
    "\n",
    "ax = plt.axes(projection = '3d')\n",
    "print(projected.shape)\n",
    "ax.set_title(\"Onehot\")\n",
    "ax.scatter3D(projected[:, 0], projected[:, 1],projected[:,2],\n",
    "            c=target, alpha=0.5,\n",
    "            cmap=plt.cm.get_cmap('Spectral', 10))"
   ]
  },
  {
   "cell_type": "markdown",
   "metadata": {},
   "source": [
    "As we can see, onehot encoding seems to separate the data better. However, the difference is not big enough to completely exclude the ordinal encoding due to the variation the latter may bring when in its original 11-dimensional space.\n",
    "We can conclude both are worth trying out."
   ]
  },
  {
   "cell_type": "markdown",
   "metadata": {},
   "source": [
    "# 4. Modelling"
   ]
  },
  {
   "cell_type": "code",
   "execution_count": 50,
   "metadata": {},
   "outputs": [],
   "source": [
    "standardized_train_onehot = pd.read_csv(processed_data_folder + \"standardized_train_onehot.csv\")\n",
    "standardized_test_onehot = pd.read_csv(processed_data_folder + \"standardized_train_onehot.csv\")\n",
    "\n",
    "standardized_train_ordinal = pd.read_csv(processed_data_folder + \"standardized_train_ordinal.csv\")\n",
    "standardized_test_ordinal = pd.read_csv(processed_data_folder + \"standardized_train_ordinal.csv\")"
   ]
  },
  {
   "cell_type": "markdown",
   "metadata": {},
   "source": [
    "# Workflow\n",
    "Since we have data that is mostly categorical, we can draw some conclusions:\n",
    "1. A neural network/perceptron/logistic regression probably will not perform well\n",
    "2. We dont have text data so a weighted Bayes is not preferred\n",
    "\n",
    "A good aspect of this dataset is it's medium sized, meaning:\n",
    "1. We can brute force(Grid Search) a lot of algortihms to see what si best, then refine the search for some\n",
    "2. We can make try both encodings, and see if the best performing algorithms prefer one or the other.\n",
    "<br>\n",
    "We will first make use of just the F1 score for quick and dirty filtering of algorithms. Given one single metric, we can quicly eliminate the low performers. \n",
    "<br>\n",
    "After we eliminate the low performers, we can compare the metrics on the better ones and even retrain using finer Grid Search."
   ]
  },
  {
   "cell_type": "markdown",
   "metadata": {},
   "source": [
    "We will make functions out of each model training, so they can be adapted to different data preprocessings and be iterated upon.\n",
    "<br>\n",
    "All the models have a default grid, but can be fed different search grids as a function parameter."
   ]
  },
  {
   "cell_type": "markdown",
   "metadata": {},
   "source": [
    "#### Helper functions:\n",
    "Below we have some wrappers around the scikit API to modularize the code and get rid of repetitions"
   ]
  },
  {
   "cell_type": "code",
   "execution_count": 51,
   "metadata": {},
   "outputs": [],
   "source": [
    "def randomized_search_model(X,Y,model, grid, n_iter,n_jobs = 6):\n",
    "    \"\"\"Perform randomized parameter search on the model according to the grid.\n",
    "    This function requires the full dataset because it makes use of cross-validation\"\"\"\n",
    "    rs_classif = RandomizedSearchCV(estimator = model, param_distributions= grid,\n",
    "                                    n_iter = n_iter, cv = 5, verbose = 1,n_jobs = n_jobs)\n",
    "    rs_classif.fit(X,Y)\n",
    "    return rs_classif\n",
    "\n",
    "def grid_search_model(X,Y,model, grid,n_jobs = 6):\n",
    "    gs_classif = GridSearchCV(estimator = model, param_grid = grid,\n",
    "                              cv =5, verbose = 1, n_jobs = n_jobs)\n",
    "    gs_classif.fit(X,Y)\n",
    "    return gs_classif\n",
    "\n",
    "def eval_on_test(model,X,Y,method = f1_score):\n",
    "    Y_pred = model.predict(X)\n",
    "    value = method(Y,Y_pred)\n",
    "    print(value)\n",
    "    return value\n",
    "\n",
    "def full_metrics(model,x,y):\n",
    "    \"\"\"\n",
    "    Performs evaluation comparison on y_true labels vs. y_pred labels.\n",
    "    \"\"\"\n",
    "    y_true = y\n",
    "    y_pred = model.predict(x)\n",
    "    \n",
    "    accuracy = accuracy_score(y_true, y_pred)\n",
    "    precision = precision_score(y_true, y_pred)\n",
    "    recall = recall_score(y_true, y_pred)\n",
    "    f1 = f1_score(y_true, y_pred)\n",
    "    metric_dict = {\"accuracy\": round(accuracy, 4),\n",
    "                   \"precision\": round(precision, 4), \n",
    "                   \"recall\": round(recall, 4),\n",
    "                   \"f1\": round(f1, 4)}\n",
    "    print(f\"Acc: {accuracy * 100:.4f}%\")\n",
    "    print(f\"Precision: {precision:.4f}\")\n",
    "    print(f\"Recall: {recall:.4f}\")\n",
    "    print(f\"F1 score: {f1:.4f}\")\n",
    "\n",
    "    return metric_dict\n",
    "def plot_conf_mat(conf_mat):\n",
    "    \"\"\"\n",
    "    Plots a confusion matrix using Seaborn's heatmap().\n",
    "    \"\"\"\n",
    "    \n",
    "    fig, ax = plt.subplots(figsize=(3, 3))\n",
    "    ax = sns.heatmap(conf_mat,\n",
    "                     annot=True, # Annotate the boxes \n",
    "                     cbar=False,\n",
    "                     fmt = 'g')\n",
    "\n",
    "    plt.xlabel('true label')\n",
    "    plt.ylabel('predicted label');"
   ]
  },
  {
   "cell_type": "markdown",
   "metadata": {},
   "source": [
    "Training a random forest classifier"
   ]
  },
  {
   "cell_type": "code",
   "execution_count": 53,
   "metadata": {},
   "outputs": [],
   "source": [
    "def train_rf(X_train, X_test, Y_train, Y_test, grid = None):\n",
    "    if grid is None:\n",
    "        grid_rf = {\"n_estimators\": [40,50,100],\n",
    "                \"max_depth\": [None, 5, 10, 20],\n",
    "                \"max_features\": [\"auto\", \"sqrt\"],\n",
    "                \"min_samples_split\": [2, 4, 6],\n",
    "                \"min_samples_leaf\": [1, 2, 4]}\n",
    "    else:\n",
    "        grid_rf = grid\n",
    "#     parameter_grid = {\n",
    "#                  'max_depth' : [4, 6, 8],\n",
    "#                  'n_estimators': [50, 10],\n",
    "#                  'max_features': ['sqrt', 'auto', 'log2'],\n",
    "#                  'min_samples_split': [2, 3, 10],\n",
    "#                  'min_samples_leaf': [1, 3, 10],\n",
    "#                  'bootstrap': [True, False],\n",
    "#                  }\n",
    "    rf = grid_search_model(X_train,Y_train,RandomForestClassifier(),grid_rf)\n",
    "    f1 = (eval_on_test(rf,X_train,Y_train), \n",
    "          eval_on_test(rf, X_test, Y_test))\n",
    "    return rf,f1"
   ]
  },
  {
   "cell_type": "markdown",
   "metadata": {},
   "source": [
    "Support Vector Classifier"
   ]
  },
  {
   "cell_type": "code",
   "execution_count": 54,
   "metadata": {},
   "outputs": [],
   "source": [
    "def train_svc(X_train, X_test, Y_train, Y_test, grid = None):\n",
    "    if grid is None:\n",
    "        grid_svc = [{'kernel': ['rbf'], 'gamma': [1e-3, 1e-4],'C': [10, 100, 1000, 2000]},\n",
    "                {'kernel': ['linear'], 'C': [10, 100, 1000, 2000]}]\n",
    "    else:\n",
    "        grid_svc = grid\n",
    "    svc = randomized_search_model(X_train,Y_train,SVC(),grid_svc,20)\n",
    "    f1 = (eval_on_test(svc,X_train,Y_train), \n",
    "          eval_on_test(svc, X_test, Y_test))\n",
    "    return svc,f1"
   ]
  },
  {
   "cell_type": "code",
   "execution_count": 55,
   "metadata": {},
   "outputs": [],
   "source": [
    "def train_knn(X_train, X_test, Y_train, Y_test, grid = None):\n",
    "    if grid is None:\n",
    "        grid_knn = [{'n_neighbors': [3,5,7,11], 'weights':['uniform','distance'], 'metric': ['euclidean','manhattan']}]\n",
    "    else:\n",
    "        grid_knn = grid\n",
    "    knn = grid_search_model(X_train, Y_train, KNeighborsClassifier(),grid_knn)\n",
    "    f1 = (eval_on_test(knn,X_train,Y_train), \n",
    "          eval_on_test(knn, X_test, Y_test))\n",
    "    return knn,f1"
   ]
  },
  {
   "cell_type": "code",
   "execution_count": 56,
   "metadata": {},
   "outputs": [],
   "source": [
    "def train_adaboost(X_train, X_test, Y_train, Y_test, grid = None):\n",
    "#     grid_adaboost = {\n",
    "#      'n_estimators': [50,75, 100],\n",
    "#      'learning_rate' : [0.01,0.05,0.1,0.3,1],\n",
    "#      'loss' : ['linear', 'square', 'exponential']\n",
    "#      }\n",
    "    if grid is None:\n",
    "        grid_adaboost = {\"base_estimator__criterion\" : [\"gini\", \"entropy\"],\n",
    "                         \"base_estimator__splitter\" :   [\"best\", \"random\"],\n",
    "                         \"n_estimators\": [50,75,100,125]}\n",
    "    else:\n",
    "        grid_adaboost = grid\n",
    "    # ab = AdaBoostClassifier().fit(X_train,Y_train)\n",
    "    DTC = DecisionTreeClassifier(max_features = \"auto\",max_depth = 6)\n",
    "\n",
    "    adaboost = grid_search_model(X_train,Y_train, AdaBoostClassifier(base_estimator= DTC), grid_adaboost)\n",
    "\n",
    "    f1 = (eval_on_test(adaboost,X_train,Y_train), \n",
    "          eval_on_test(adaboost, X_test, Y_test))\n",
    "    return adaboost,f1"
   ]
  },
  {
   "cell_type": "code",
   "execution_count": 57,
   "metadata": {},
   "outputs": [],
   "source": [
    "# def train_gp(X_train, X_test, Y_train, Y_test):\n",
    "#     grid_gp = {'kernel':[RBF(1.0), 0.5* RBF(1.0), 0.33* RBF(1.0), 0.1 * RBF(1.0), RBF(0.5)],\n",
    "#                  'n_restarts_optimizer' : [0,1,2,3]}\n",
    "#     gp = grid_search_model(X_train, Y_train, GaussianProcessClassifier(RBF(1.0)), grid_gp, 5)\n",
    "\n",
    "#     eval_on_test(gp,X_train,Y_train)\n",
    "#     eval_on_test(gp,X_test,Y_test)\n",
    "#     return gp"
   ]
  },
  {
   "cell_type": "code",
   "execution_count": 58,
   "metadata": {},
   "outputs": [],
   "source": [
    "def train_xgb(X_train, X_test, Y_train, Y_test, grid = None, early_stopping_rounds=50):\n",
    "    \n",
    "    if grid is None:\n",
    "        grid_xg ={\n",
    "            'min_child_weight': [1, 5, 10],\n",
    "            'gamma': [0.5, 1, 1.5, 2, 5],\n",
    "            'subsample': [0.6, 0.8, 1.0],\n",
    "            'colsample_bytree': [0.6, 0.8, 1.0],\n",
    "            'max_depth': [3, 4, 5]\n",
    "            }\n",
    "    else:\n",
    "        grid_xg = grid\n",
    "    xgb = XGBClassifier(\n",
    "     learning_rate =0.1,\n",
    "     n_estimators=1000,\n",
    "     max_depth=5,\n",
    "     min_child_weight=1,\n",
    "     gamma=0,\n",
    "     subsample=0.8,\n",
    "     colsample_bytree=0.8,\n",
    "     objective= 'binary:logistic',\n",
    "     nthread=4,\n",
    "     scale_pos_weight=1)\n",
    "    \n",
    "    \n",
    "#     gsearch1 = GridSearchCV(estimator = XGBClassifier( learning_rate =0.1, n_estimators=140, max_depth=5,\n",
    "#      min_child_weight=1, gamma=0, subsample=0.8, colsample_bytree=0.8,\n",
    "#      objective= 'binary:logistic', nthread=4, scale_pos_weight=1, seed=27), \n",
    "#      param_grid = param_test1, scoring='roc_auc',n_jobs=4,iid=False, cv=5)\n",
    "    \n",
    "    \n",
    "    \n",
    "    xgb_param = xgb.get_xgb_params()\n",
    "    xgtrain = DMatrix(X_train, label=Y_train)\n",
    "    cvresult = cv(xgb_param, xgtrain, num_boost_round=xgb.get_params()['n_estimators'], nfold=5,\n",
    "        metrics='auc', early_stopping_rounds=early_stopping_rounds)\n",
    "    xgb.set_params(n_estimators=cvresult.shape[0])\n",
    "\n",
    "    #Fit the algorithm on the data\n",
    "    xgb.fit(X_train, Y_train)\n",
    "\n",
    "    f1 = (eval_on_test(xgb,X_train,Y_train), \n",
    "          eval_on_test(xgb, X_test, Y_test))\n",
    "    return xgb,f1"
   ]
  },
  {
   "cell_type": "code",
   "execution_count": 59,
   "metadata": {},
   "outputs": [],
   "source": [
    "\n",
    "def train_all(X_train, X_test, Y_train, Y_test):\n",
    "    sep = '-'*80\n",
    "    print(sep)\n",
    "    print(\"Random Forest\",flush=True)\n",
    "    rf, rff1 = train_rf(X_train, X_test, Y_train, Y_test)\n",
    "    print(sep)\n",
    "    print(\"Support Vector Classifier\",flush=True)\n",
    "    svc, svcf1 = train_svc(X_train, X_test, Y_train, Y_test)\n",
    "    print(sep)\n",
    "    print(\"K Nearest Neighbors\",flush=True)\n",
    "    knn, knnf1 = train_knn(X_train, X_test, Y_train, Y_test)\n",
    "    print(sep)\n",
    "    print(\"Adaboost\",flush=True)\n",
    "    adaboost,adaboostf1 = train_adaboost(X_train, X_test, Y_train, Y_test)\n",
    "#     print('-'*20)\n",
    "#     print(\"Gaussian Process\")\n",
    "#     gp = train_gp(X_train, X_test, Y_train, Y_test)\n",
    "    print(sep)\n",
    "    print(\"XGBoost Classifier\")\n",
    "    xgb,xgbf1 = train_xgb(X_train, X_test, Y_train, Y_test)\n",
    "    print(sep)\n",
    "    print(\"\")\n",
    "    return {'rf':(rf,rff1),'svc':(svc,svcf1),'knn':(knn,knnf1),'adaboost':(adaboost,adaboostf1),'xgb':(xgb,xgbf1)}"
   ]
  },
  {
   "cell_type": "markdown",
   "metadata": {},
   "source": []
  },
  {
   "cell_type": "code",
   "execution_count": 60,
   "metadata": {},
   "outputs": [
    {
     "name": "stdout",
     "output_type": "stream",
     "text": [
      "--------------------------------------------------------------------------------\n",
      "Random Forest\n",
      "Fitting 5 folds for each of 216 candidates, totalling 1080 fits\n"
     ]
    },
    {
     "name": "stderr",
     "output_type": "stream",
     "text": [
      "[Parallel(n_jobs=6)]: Using backend LokyBackend with 6 concurrent workers.\n",
      "[Parallel(n_jobs=6)]: Done  38 tasks      | elapsed:    2.4s\n",
      "[Parallel(n_jobs=6)]: Done 188 tasks      | elapsed:    8.7s\n",
      "[Parallel(n_jobs=6)]: Done 438 tasks      | elapsed:   18.0s\n",
      "[Parallel(n_jobs=6)]: Done 788 tasks      | elapsed:   30.3s\n"
     ]
    },
    {
     "name": "stdout",
     "output_type": "stream",
     "text": [
      "0.8410852713178294\n",
      "0.7154471544715448\n",
      "--------------------------------------------------------------------------------\n",
      "Support Vector Classifier\n"
     ]
    },
    {
     "name": "stderr",
     "output_type": "stream",
     "text": [
      "[Parallel(n_jobs=6)]: Done 1080 out of 1080 | elapsed:   40.1s finished\n",
      "E:\\Programe\\Anaconda3\\envs\\rltorch\\lib\\site-packages\\sklearn\\model_selection\\_search.py:281: UserWarning: The total space of parameters 12 is smaller than n_iter=20. Running 12 iterations. For exhaustive searches, use GridSearchCV.\n",
      "  % (grid_size, self.n_iter, grid_size), UserWarning)\n",
      "[Parallel(n_jobs=6)]: Using backend LokyBackend with 6 concurrent workers.\n"
     ]
    },
    {
     "name": "stdout",
     "output_type": "stream",
     "text": [
      "Fitting 5 folds for each of 12 candidates, totalling 60 fits\n",
      "0.7916666666666665\n",
      "0.6991869918699186\n",
      "--------------------------------------------------------------------------------\n",
      "K Nearest Neighbors\n"
     ]
    },
    {
     "name": "stderr",
     "output_type": "stream",
     "text": [
      "[Parallel(n_jobs=6)]: Done  60 out of  60 | elapsed:   33.4s finished\n",
      "[Parallel(n_jobs=6)]: Using backend LokyBackend with 6 concurrent workers.\n"
     ]
    },
    {
     "name": "stdout",
     "output_type": "stream",
     "text": [
      "Fitting 5 folds for each of 16 candidates, totalling 80 fits\n",
      "0.8015267175572519\n",
      "0.7226890756302521\n",
      "--------------------------------------------------------------------------------\n",
      "Adaboost\n"
     ]
    },
    {
     "name": "stderr",
     "output_type": "stream",
     "text": [
      "[Parallel(n_jobs=6)]: Done  68 tasks      | elapsed:    0.2s\n",
      "[Parallel(n_jobs=6)]: Done  80 out of  80 | elapsed:    0.2s finished\n",
      "[Parallel(n_jobs=6)]: Using backend LokyBackend with 6 concurrent workers.\n"
     ]
    },
    {
     "name": "stdout",
     "output_type": "stream",
     "text": [
      "Fitting 5 folds for each of 16 candidates, totalling 80 fits\n"
     ]
    },
    {
     "name": "stderr",
     "output_type": "stream",
     "text": [
      "[Parallel(n_jobs=6)]: Done  64 tasks      | elapsed:    2.3s\n",
      "[Parallel(n_jobs=6)]: Done  80 out of  80 | elapsed:    2.9s finished\n"
     ]
    },
    {
     "name": "stdout",
     "output_type": "stream",
     "text": [
      "0.9505703422053231\n",
      "0.7154471544715448\n",
      "--------------------------------------------------------------------------------\n",
      "XGBoost Classifier\n",
      "0.875968992248062\n",
      "0.7540983606557377\n",
      "--------------------------------------------------------------------------------\n",
      "\n"
     ]
    }
   ],
   "source": [
    "\n",
    "onehot_split = split_train(standardized_train_onehot,.2)\n",
    "models_onehot = train_all(*onehot_split)"
   ]
  },
  {
   "cell_type": "code",
   "execution_count": 61,
   "metadata": {},
   "outputs": [
    {
     "name": "stdout",
     "output_type": "stream",
     "text": [
      "--------------------------------------------------------------------------------\n",
      "Random Forest\n",
      "Fitting 5 folds for each of 216 candidates, totalling 1080 fits\n"
     ]
    },
    {
     "name": "stderr",
     "output_type": "stream",
     "text": [
      "[Parallel(n_jobs=6)]: Using backend LokyBackend with 6 concurrent workers.\n",
      "[Parallel(n_jobs=6)]: Done  64 tasks      | elapsed:    1.9s\n",
      "[Parallel(n_jobs=6)]: Done 364 tasks      | elapsed:   10.6s\n",
      "[Parallel(n_jobs=6)]: Done 864 tasks      | elapsed:   24.5s\n"
     ]
    },
    {
     "name": "stdout",
     "output_type": "stream",
     "text": [
      "0.8941176470588236\n",
      "0.7941176470588235\n",
      "--------------------------------------------------------------------------------\n",
      "Support Vector Classifier\n"
     ]
    },
    {
     "name": "stderr",
     "output_type": "stream",
     "text": [
      "[Parallel(n_jobs=6)]: Done 1080 out of 1080 | elapsed:   30.6s finished\n",
      "E:\\Programe\\Anaconda3\\envs\\rltorch\\lib\\site-packages\\sklearn\\model_selection\\_search.py:281: UserWarning: The total space of parameters 12 is smaller than n_iter=20. Running 12 iterations. For exhaustive searches, use GridSearchCV.\n",
      "  % (grid_size, self.n_iter, grid_size), UserWarning)\n",
      "[Parallel(n_jobs=6)]: Using backend LokyBackend with 6 concurrent workers.\n"
     ]
    },
    {
     "name": "stdout",
     "output_type": "stream",
     "text": [
      "Fitting 5 folds for each of 12 candidates, totalling 60 fits\n",
      "0.7671232876712328\n",
      "0.7887323943661971\n",
      "--------------------------------------------------------------------------------\n",
      "K Nearest Neighbors\n"
     ]
    },
    {
     "name": "stderr",
     "output_type": "stream",
     "text": [
      "[Parallel(n_jobs=6)]: Done  60 out of  60 | elapsed:   40.1s finished\n",
      "[Parallel(n_jobs=6)]: Using backend LokyBackend with 6 concurrent workers.\n"
     ]
    },
    {
     "name": "stdout",
     "output_type": "stream",
     "text": [
      "Fitting 5 folds for each of 16 candidates, totalling 80 fits\n",
      "0.7976878612716762\n",
      "0.7659574468085105\n",
      "--------------------------------------------------------------------------------\n",
      "Adaboost\n"
     ]
    },
    {
     "name": "stderr",
     "output_type": "stream",
     "text": [
      "[Parallel(n_jobs=6)]: Done  68 tasks      | elapsed:    0.2s\n",
      "[Parallel(n_jobs=6)]: Done  80 out of  80 | elapsed:    0.2s finished\n",
      "[Parallel(n_jobs=6)]: Using backend LokyBackend with 6 concurrent workers.\n"
     ]
    },
    {
     "name": "stdout",
     "output_type": "stream",
     "text": [
      "Fitting 5 folds for each of 16 candidates, totalling 80 fits\n"
     ]
    },
    {
     "name": "stderr",
     "output_type": "stream",
     "text": [
      "[Parallel(n_jobs=6)]: Done  64 tasks      | elapsed:    2.3s\n",
      "[Parallel(n_jobs=6)]: Done  69 out of  80 | elapsed:    2.4s remaining:    0.3s\n",
      "[Parallel(n_jobs=6)]: Done  80 out of  80 | elapsed:    2.8s finished\n"
     ]
    },
    {
     "name": "stdout",
     "output_type": "stream",
     "text": [
      "0.9407265774378585\n",
      "0.7083333333333335\n",
      "--------------------------------------------------------------------------------\n",
      "XGBoost Classifier\n",
      "0.8863198458574182\n",
      "0.7611940298507464\n",
      "--------------------------------------------------------------------------------\n",
      "\n"
     ]
    }
   ],
   "source": [
    "ordinal_split = split_train(standardized_train_ordinal,.2)\n",
    "models_ordinal = train_all(*ordinal_split)"
   ]
  },
  {
   "cell_type": "markdown",
   "metadata": {},
   "source": [
    "# Iterative training approach\n",
    "Now that we have a raw sense of what each algorithms does with each encoding, we can move on to iterating the best.\n",
    "<br>\n",
    "We will choose two categories:\n",
    "1. The ones that overfit the training set, because that gives us the choice to regularize and decrease variance to improve performance\n",
    "2. The ones that do well out of the box,giving good performance on both the cross-validation tests and the validation set."
   ]
  },
  {
   "cell_type": "code",
   "execution_count": null,
   "metadata": {},
   "outputs": [],
   "source": [
    "# joblib.dump(models,\"..//models//onehot_models_it1.pkl\")\n",
    "# joblib.dump(models_ordinal,\"..//models//ordinal_models_it1.pkl\")"
   ]
  },
  {
   "cell_type": "code",
   "execution_count": null,
   "metadata": {},
   "outputs": [],
   "source": [
    "# onehot_models = joblib.load(\"..//models//onehot_models_it1.pkl\")"
   ]
  },
  {
   "cell_type": "code",
   "execution_count": 62,
   "metadata": {},
   "outputs": [],
   "source": [
    "selected_onehots = {model_name : models_onehot[model_name] for model_name in [\"rf\",\"adaboost\",\"xgb\"]}"
   ]
  },
  {
   "cell_type": "code",
   "execution_count": 65,
   "metadata": {},
   "outputs": [
    {
     "name": "stdout",
     "output_type": "stream",
     "text": [
      "rf\n",
      "Acc: 80.4469%\n",
      "Precision: 0.8148\n",
      "Recall: 0.6377\n",
      "F1 score: 0.7154\n",
      "\n",
      "adaboost\n",
      "Acc: 80.4469%\n",
      "Precision: 0.8148\n",
      "Recall: 0.6377\n",
      "F1 score: 0.7154\n",
      "\n",
      "xgb\n",
      "Acc: 83.2402%\n",
      "Precision: 0.8679\n",
      "Recall: 0.6667\n",
      "F1 score: 0.7541\n",
      "\n"
     ]
    }
   ],
   "source": [
    "for name,model in selected_onehots.items():\n",
    "    print(name)\n",
    "    full_metrics(model[0],onehot_split[1],onehot_split[3])\n",
    "    print()"
   ]
  },
  {
   "cell_type": "code",
   "execution_count": 67,
   "metadata": {},
   "outputs": [
    {
     "name": "stdout",
     "output_type": "stream",
     "text": [
      "rf\n",
      "Acc: 84.3575%\n",
      "Precision: 0.8571\n",
      "Recall: 0.7397\n",
      "F1 score: 0.7941\n",
      "\n",
      "adaboost\n",
      "Acc: 76.5363%\n",
      "Precision: 0.7183\n",
      "Recall: 0.6986\n",
      "F1 score: 0.7083\n",
      "\n",
      "xgb\n",
      "Acc: 82.1229%\n",
      "Precision: 0.8361\n",
      "Recall: 0.6986\n",
      "F1 score: 0.7612\n",
      "\n"
     ]
    }
   ],
   "source": [
    "selected_ordinals = {model_name : models_ordinal[model_name] for model_name in [\"rf\",\"adaboost\",\"xgb\"]}\n",
    "for name,model in selected_ordinals.items():\n",
    "    print(name)\n",
    "    full_metrics(model[0],ordinal_split[1],ordinal_split[3])\n",
    "    print()"
   ]
  },
  {
   "cell_type": "markdown",
   "metadata": {},
   "source": [
    "The random forest for ordinals seems to perform the best, so we will save it and make a submission with that"
   ]
  },
  {
   "cell_type": "code",
   "execution_count": 75,
   "metadata": {},
   "outputs": [
    {
     "data": {
      "text/plain": [
       "['models//rf79.pkl']"
      ]
     },
     "execution_count": 75,
     "metadata": {},
     "output_type": "execute_result"
    }
   ],
   "source": [
    "model_final = selected_ordinals[\"rf\"][0]\n",
    "joblib.dump(model_final, models_folder + \"rf79_ordinal.pkl\")"
   ]
  },
  {
   "cell_type": "code",
   "execution_count": 82,
   "metadata": {},
   "outputs": [],
   "source": [
    "initial_test = pd.read_csv(raw_data_folder+\"test.csv\")\n",
    "standardized_test = pd.read_csv(processed_data_folder+\"standardized_test_ordinal.csv\")"
   ]
  },
  {
   "cell_type": "code",
   "execution_count": 83,
   "metadata": {},
   "outputs": [],
   "source": [
    "survived = model_final.predict(standardized_test)"
   ]
  },
  {
   "cell_type": "code",
   "execution_count": 84,
   "metadata": {},
   "outputs": [],
   "source": [
    "submission = pd.DataFrame({\"PassengerId\":initial_test.PassengerId, \"Survived\": survived})"
   ]
  },
  {
   "cell_type": "code",
   "execution_count": 87,
   "metadata": {},
   "outputs": [],
   "source": [
    "submission\n",
    "submission.to_csv(\"submission_rf79_ordinal.csv\",index=False)"
   ]
  },
  {
   "cell_type": "code",
   "execution_count": null,
   "metadata": {},
   "outputs": [],
   "source": []
  }
 ],
 "metadata": {
  "kernelspec": {
   "display_name": "Python 3",
   "language": "python",
   "name": "python3"
  },
  "language_info": {
   "codemirror_mode": {
    "name": "ipython",
    "version": 3
   },
   "file_extension": ".py",
   "mimetype": "text/x-python",
   "name": "python",
   "nbconvert_exporter": "python",
   "pygments_lexer": "ipython3",
   "version": "3.7.5"
  }
 },
 "nbformat": 4,
 "nbformat_minor": 4
}
